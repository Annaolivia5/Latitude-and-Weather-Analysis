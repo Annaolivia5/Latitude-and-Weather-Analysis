{
 "cells": [
  {
   "cell_type": "markdown",
   "metadata": {},
   "source": [
    "# WeatherPy\n",
    "----\n",
    "\n",
    "#### Note\n",
    "* Instructions have been included for each segment. You do not have to follow them exactly, but they are included to help you think through the steps."
   ]
  },
  {
   "cell_type": "code",
   "execution_count": 2,
   "metadata": {
    "scrolled": true
   },
   "outputs": [],
   "source": [
    "# Dependencies and Setup\n",
    "import matplotlib.pyplot as plt\n",
    "import pandas as pd\n",
    "import numpy as np\n",
    "import requests\n",
    "import time\n",
    "from scipy.stats import linregress\n",
    "from pprint import pprint\n",
    "\n",
    "# Import API key\n",
    "from api_keys import weather_api_key\n",
    "\n",
    "# Incorporated citipy to determine city based on latitude and longitude\n",
    "from citipy import citipy\n",
    "\n",
    "# Output File (CSV)\n",
    "output_data_file = \"output_data/cities.csv\"\n",
    "\n",
    "# Range of latitudes and longitudes\n",
    "lat_range = (-90, 90)\n",
    "lng_range = (-180, 180)"
   ]
  },
  {
   "cell_type": "markdown",
   "metadata": {},
   "source": [
    "## Generate Cities List"
   ]
  },
  {
   "cell_type": "code",
   "execution_count": 3,
   "metadata": {},
   "outputs": [
    {
     "data": {
      "text/plain": [
       "627"
      ]
     },
     "execution_count": 3,
     "metadata": {},
     "output_type": "execute_result"
    }
   ],
   "source": [
    "# List for holding lat_lngs and cities\n",
    "lat_lngs = []\n",
    "cities = []\n",
    "\n",
    "# Create a set of random lat and lng combinations\n",
    "lats = np.random.uniform(lat_range[0], lat_range[1], size=1500)\n",
    "lngs = np.random.uniform(lng_range[0], lng_range[1], size=1500)\n",
    "lat_lngs = zip(lats, lngs)\n",
    "\n",
    "# Identify nearest city for each lat, lng combination\n",
    "for lat_lng in lat_lngs:\n",
    "    city = citipy.nearest_city(lat_lng[0], lat_lng[1]).city_name\n",
    "    \n",
    "    # If the city is unique, then add it to a our cities list\n",
    "    if city not in cities:\n",
    "        cities.append(city)\n",
    "\n",
    "# Print the city count to confirm sufficient count\n",
    "len(cities)\n"
   ]
  },
  {
   "cell_type": "markdown",
   "metadata": {},
   "source": [
    "### Perform API Calls\n",
    "* Perform a weather check on each city using a series of successive API calls.\n",
    "* Include a print log of each city as it'sbeing processed (with the city number and city name).\n"
   ]
  },
  {
   "cell_type": "code",
   "execution_count": 4,
   "metadata": {
    "scrolled": true
   },
   "outputs": [
    {
     "name": "stdout",
     "output_type": "stream",
     "text": [
      "City #1: Vao\n",
      "City #2: Mahébourg\n",
      "City #3: Ostrovnoy\n",
      "City #4: Albany\n",
      "City #5: Port Alfred\n",
      "City #6: Ushuaia\n",
      "City #7: Tuxpan\n",
      "#8: samusu not found.\n",
      "\n",
      "City #9: San Juan del Sur\n",
      "City #10: Wonthaggi\n",
      "City #11: Port Elizabeth\n",
      "City #12: Hermanus\n",
      "City #13: Bethel\n",
      "City #14: Atuona\n",
      "City #15: Poum\n",
      "City #16: Constitución\n",
      "City #17: Nikolskoye\n",
      "City #18: Rikitea\n",
      "City #19: Laguna\n",
      "City #20: George Town\n",
      "City #21: Port-Gentil\n",
      "City #22: Punta Arenas\n",
      "City #23: Yulara\n",
      "City #24: Busselton\n",
      "City #25: Khatanga\n",
      "City #26: Chute-aux-Outardes\n",
      "#27: tumannyy not found.\n",
      "\n",
      "City #28: Arraial do Cabo\n",
      "#29: grand river south east not found.\n",
      "\n",
      "#30: attawapiskat not found.\n",
      "\n",
      "City #31: Avarua\n",
      "#32: taolanaro not found.\n",
      "\n",
      "City #33: Faya\n",
      "City #34: Katsuura\n",
      "City #35: Manuk Mangkaw\n",
      "#36: nguiu not found.\n",
      "\n",
      "City #37: Jardim\n",
      "City #38: Tual\n",
      "#39: alotau not found.\n",
      "\n",
      "City #40: Tromsø\n",
      "City #41: Hurghada\n",
      "City #42: Bredasdorp\n",
      "City #43: Mataura\n",
      "#44: mocambique not found.\n",
      "\n",
      "City #45: Durango\n",
      "City #46: Klaksvík\n",
      "#47: maymanak not found.\n",
      "\n",
      "City #48: Puerto Ayora\n",
      "City #49: Tegul'det\n",
      "City #50: Bluff\n",
      "City #51: Ponta do Sol\n",
      "City #52: Cidreira\n",
      "City #53: Barrow\n",
      "City #54: Olaszliszka\n",
      "City #55: Lüderitz\n",
      "#56: rawannawi not found.\n",
      "\n",
      "City #57: Huarmey\n",
      "City #58: Chokurdakh\n",
      "#59: belushya guba not found.\n",
      "\n",
      "City #60: Torbay\n",
      "City #61: Tuktoyaktuk\n",
      "#62: santa eulalia del rio not found.\n",
      "\n",
      "City #63: Saskylakh\n",
      "#64: barentsburg not found.\n",
      "\n",
      "City #65: Bambous Virieux\n",
      "#66: halalo not found.\n",
      "\n",
      "City #67: Stromness\n",
      "City #68: Vulcan\n",
      "City #69: Carnarvon\n",
      "City #70: Fukuechō\n",
      "City #71: Toccoa\n",
      "City #72: Kollam\n",
      "City #73: Merritt Island\n",
      "City #74: Cayenne\n",
      "City #75: Basco\n",
      "City #76: Kavaratti\n",
      "City #77: Sitka\n",
      "City #78: Arkhangelsk\n",
      "City #79: São João da Barra\n",
      "City #80: Cherskiy\n",
      "City #81: Leeton\n",
      "City #82: Upata\n",
      "City #83: Hofn\n",
      "City #84: Ambon City\n",
      "#85: vaitupu not found.\n",
      "\n",
      "City #86: Tambura\n",
      "City #87: Sambava\n",
      "City #88: Ponta Delgada\n",
      "City #89: Longyearbyen\n",
      "City #90: Belmonte\n",
      "City #91: Esperance\n",
      "City #92: Ol'ga\n",
      "#93: ruatoria not found.\n",
      "\n",
      "City #94: Nishihara\n",
      "City #95: Iqaluit\n",
      "City #96: Gambēla\n",
      "City #97: Majene\n",
      "City #98: Champerico\n",
      "City #99: Hobart\n",
      "City #100: Comodoro Rivadavia\n",
      "City #101: Strezhevoy\n",
      "City #102: Cape Town\n",
      "City #103: Urmia\n",
      "City #104: Margate\n",
      "City #105: Ugoofaaru\n",
      "City #106: Namatanai\n",
      "City #107: Xining\n",
      "City #108: Beibei\n",
      "City #109: Kaniama\n",
      "#110: saleaula not found.\n",
      "\n",
      "City #111: Lompoc\n",
      "City #112: Hilo\n",
      "#113: bokspits not found.\n",
      "\n",
      "#114: beypur not found.\n",
      "\n",
      "City #115: Pevek\n",
      "City #116: Zhigansk\n",
      "City #117: Kapaa\n",
      "City #118: Ahipara\n",
      "City #119: Nizhniy Kuranakh\n",
      "City #120: Kruisfontein\n",
      "City #121: Laredo\n",
      "City #122: Anadyr\n",
      "City #123: Qaanaaq\n",
      "City #124: Churapcha\n",
      "City #125: Berlevåg\n",
      "City #126: Lavrentiya\n",
      "City #127: Provideniya\n",
      "City #128: Faanui\n",
      "City #129: Santa Isabel Rio Negro\n",
      "#130: lolua not found.\n",
      "\n",
      "City #131: Pedernales\n",
      "City #132: Petropavl\n",
      "City #133: Sola\n",
      "City #134: Merrill\n",
      "City #135: Pisco\n",
      "City #136: Thompson\n",
      "City #137: Dunedin\n",
      "City #138: Bilma\n",
      "City #139: Suntar\n",
      "City #140: Lata\n",
      "City #141: Qingdao\n",
      "City #142: Mpika\n",
      "City #143: Salina\n",
      "City #144: Batticaloa\n",
      "City #145: Bambanglipuro\n",
      "City #146: Yellowknife\n",
      "#147: illoqqortoormiut not found.\n",
      "\n",
      "City #148: Pinhão\n",
      "#149: amderma not found.\n",
      "\n",
      "City #150: Baykit\n",
      "City #151: Clyde River\n",
      "City #152: Keffi\n",
      "City #153: Kropotkin\n",
      "City #154: Hambantota\n",
      "City #155: Khorramshahr\n",
      "#156: mys shmidta not found.\n",
      "\n",
      "City #157: Elko\n",
      "City #158: Norman Wells\n",
      "City #159: São Filipe\n",
      "City #160: Marabu\n",
      "City #161: Kiryat Gat\n",
      "City #162: Hudiksvall\n",
      "City #163: Kalmunai\n",
      "City #164: Eenhana\n",
      "City #165: Kavieng\n",
      "City #166: Singleton\n",
      "City #167: Stephenville\n",
      "City #168: Nemuro\n",
      "City #169: Saint-Pierre\n",
      "City #170: Umluj\n",
      "City #171: Port Hueneme\n",
      "City #172: Alta\n",
      "City #173: Half Moon Bay\n",
      "#174: bolshaya chernigovka not found.\n",
      "\n",
      "City #175: Coria\n",
      "City #176: Matara\n",
      "City #177: San Patricio\n",
      "City #178: Nacala\n",
      "City #179: Komatipoort\n",
      "City #180: Butaritari\n",
      "City #181: Sirte\n",
      "City #182: Harrismith\n",
      "City #183: Cairns\n",
      "City #184: Gravina in Puglia\n",
      "City #185: Bathsheba\n",
      "City #186: Ilulissat\n",
      "City #187: Evensk\n",
      "City #188: Hondomachi-hondo\n",
      "City #189: Bhainsdehi\n",
      "City #190: Bernau bei Berlin\n",
      "City #191: Øksfjord\n",
      "City #192: San Francisco del Mar Viejo\n",
      "City #193: Souillac\n",
      "City #194: Cukai\n",
      "City #195: Cutro\n",
      "City #196: Arrondissement de Millau\n",
      "City #197: Airai\n",
      "City #198: Mabaruma\n",
      "City #199: Mar del Plata\n",
      "#200: sorvag not found.\n",
      "\n",
      "City #201: Port Hardy\n",
      "City #202: Mount Vernon\n",
      "City #203: Kyshtovka\n",
      "City #204: Le Vauclin\n",
      "City #205: Hobyo\n",
      "City #206: Myitkyina\n",
      "City #207: Maţāy\n",
      "City #208: Port Keats\n",
      "City #209: Navahrudak\n",
      "City #210: Udalguri\n",
      "City #211: Upernavik\n",
      "City #212: Tessalit\n",
      "City #213: Touros\n",
      "City #214: Havre-St-Pierre\n",
      "City #215: Impfondo\n",
      "#216: nizhneyansk not found.\n",
      "\n",
      "City #217: Erzin\n",
      "City #218: Walvis Bay\n",
      "City #219: Leningradskiy\n",
      "City #220: Nanortalik\n",
      "City #221: Fort Nelson\n",
      "City #222: Muros\n",
      "City #223: St. George's\n",
      "City #224: Abu Dhabi\n",
      "City #225: Tasiilaq\n",
      "City #226: Montrose\n",
      "City #227: Wentzville\n",
      "City #228: Charters Towers\n",
      "City #229: Dikson\n",
      "City #230: Józefów\n",
      "City #231: Ulladulla\n",
      "City #232: Vanavara\n",
      "#233: tidore not found.\n",
      "\n",
      "#234: tubruq not found.\n",
      "\n",
      "City #235: Santa Cruz de la Sierra\n",
      "#236: hihifo not found.\n",
      "\n",
      "City #237: Haapiti\n",
      "City #238: Gladstone\n",
      "City #239: Port Lincoln\n",
      "City #240: East London\n",
      "City #241: Qaqortoq\n",
      "City #242: Jacareacanga\n",
      "City #243: Samarai\n",
      "City #244: Karratha\n",
      "City #245: Tiksi\n",
      "City #246: Bustamante\n",
      "#247: acuna not found.\n",
      "\n",
      "City #248: Rundu\n",
      "City #249: Merauke\n",
      "City #250: Conway\n",
      "City #251: Lakes Entrance\n",
      "City #252: Codrington\n",
      "City #253: Toucheng\n",
      "City #254: La Ronge\n",
      "#255: tsihombe not found.\n",
      "\n",
      "City #256: Mount Gambier\n",
      "City #257: Saint-Leu\n",
      "City #258: Ushtobe\n",
      "City #259: Arlit\n",
      "City #260: Laas\n",
      "City #261: Mayumba\n",
      "City #262: Conde\n",
      "#263: tancuayalab not found.\n",
      "\n",
      "City #264: Ribeira Grande\n",
      "City #265: Arahal\n",
      "City #266: Saint-Philippe\n",
      "City #267: Corrente\n",
      "City #268: Jamestown\n",
      "City #269: Tayzhina\n",
      "City #270: Vaini\n",
      "#271: teneguiban not found.\n",
      "\n",
      "City #272: Zhicheng\n",
      "City #273: Lebu\n",
      "City #274: Nhulunbuy\n",
      "City #275: Umarkhed\n",
      "City #276: Yangi Marg`ilon\n",
      "City #277: Dudinka\n",
      "City #278: Siddāpur\n",
      "City #279: Ambilobe\n",
      "City #280: Hasaki\n",
      "City #281: Coahuayana Viejo\n",
      "City #282: Pechora\n",
      "City #283: Lālmohan\n",
      "City #284: Vitim\n",
      "City #285: Tuskegee\n",
      "City #286: Ngunguru\n",
      "City #287: Anantapur\n",
      "City #288: Havelock\n",
      "City #289: Waddān\n",
      "City #290: Santa Barbara\n",
      "City #291: Campoverde\n",
      "City #292: Pochutla\n",
      "City #293: Oranjemund\n",
      "City #294: Kalinovskaya\n",
      "City #295: Beloha\n",
      "City #296: Biak\n",
      "City #297: Hong Kong\n",
      "City #298: Gisborne\n",
      "City #299: Hithadhoo\n",
      "City #300: Sovetskiy\n",
      "City #301: Lorengau\n",
      "City #302: Kikwit\n",
      "City #303: Buin\n",
      "City #304: Zaysan\n",
      "City #305: Udachny\n",
      "City #306: Along\n",
      "City #307: Shenjiamen\n",
      "City #308: Hamilton\n",
      "City #309: Ust-Kuyga\n",
      "City #310: Cabo San Lucas\n",
      "City #311: Porangatu\n",
      "City #312: Castro\n",
      "City #313: Ixtapa\n",
      "City #314: Fairview\n",
      "City #315: Vila Franca do Campo\n",
      "City #316: Popova\n",
      "City #317: Patiya\n",
      "City #318: Córdoba\n",
      "City #319: Khani\n",
      "City #320: Danilov\n",
      "City #321: Mackay\n",
      "City #322: Linqiong\n",
      "City #323: San Jose\n",
      "City #324: Saldanha\n",
      "City #325: Nova Olímpia\n",
      "City #326: Salalah\n",
      "City #327: Meulaboh\n",
      "City #328: New Norfolk\n",
      "City #329: Qui Nhon\n",
      "City #330: China\n",
      "City #331: Bonavista\n",
      "City #332: Tuatapere\n",
      "#333: marcona not found.\n",
      "\n",
      "City #334: Caravelas\n",
      "City #335: La Asuncion\n",
      "City #336: Assiut\n",
      "#337: chagda not found.\n",
      "\n",
      "City #338: Alofi\n",
      "City #339: Palmerston North\n",
      "City #340: Kuusamo\n",
      "City #341: Vestmannaeyjar\n",
      "City #342: Zugdidi\n",
      "City #343: Srednekolymsk\n",
      "City #344: Matonga\n",
      "City #345: Lamar\n",
      "City #346: Talnakh\n",
      "City #347: Columbus\n",
      "City #348: Weiser\n",
      "City #349: Saint-François\n",
      "City #350: Ewo\n",
      "City #351: Kahului\n",
      "City #352: Pecos\n",
      "City #353: Tonantins\n",
      "City #354: Marrakesh\n",
      "City #355: Tuy Hoa\n",
      "City #356: Poronaysk\n",
      "City #357: Narsaq\n",
      "City #358: Polis\n",
      "City #359: Paamiut\n",
      "City #360: Karabulak\n",
      "#361: rungata not found.\n",
      "\n",
      "City #362: Turbat\n",
      "City #363: Kaohsiung City\n",
      "City #364: Mount Isa\n",
      "City #365: Vilhena\n",
      "City #366: Pilāni\n",
      "#367: longlac not found.\n",
      "\n",
      "#368: umzimvubu not found.\n",
      "\n",
      "City #369: Passo de Camaragibe\n",
      "City #370: Flinders\n",
      "City #371: Rosetta\n",
      "City #372: Kaitangata\n",
      "City #373: Marsaxlokk\n",
      "City #374: Rosetown\n",
      "City #375: Datong\n",
      "City #376: Severobaykal'sk\n",
      "City #377: Nizhniy Tsasuchey\n",
      "City #378: Makakilo City\n",
      "City #379: Pointe-Noire\n",
      "City #380: Dera Bugti\n",
      "City #381: Sajanan\n",
      "City #382: Bougouni\n",
      "City #383: Grindavik\n",
      "City #384: Koutsouras\n",
      "City #385: Tura\n",
      "City #386: Bairiki Village\n",
      "City #387: Moen\n",
      "City #388: Homestead\n"
     ]
    },
    {
     "name": "stdout",
     "output_type": "stream",
     "text": [
      "City #389: Yichang\n",
      "City #390: Ames\n",
      "City #391: Rome\n",
      "City #392: Chui\n",
      "City #393: Morón\n",
      "City #394: Kryvyi Rih\n",
      "City #395: Quelimane\n",
      "City #396: Bereket\n",
      "City #397: Tucumã\n",
      "City #398: Manokwari\n",
      "City #399: Saint Paul Harbor\n",
      "City #400: Ndélé\n",
      "City #401: Khorixas\n",
      "City #402: Mions\n",
      "City #403: Yenagoa\n",
      "City #404: Luwuk\n",
      "City #405: Fairbanks\n",
      "City #406: Boffa\n",
      "City #407: Flin Flon\n",
      "City #408: Toora-Khem\n",
      "City #409: Saint George\n",
      "City #410: Daokou\n",
      "City #411: Tsarychanka\n",
      "City #412: Coquimbo\n",
      "City #413: Cham\n",
      "City #414: Pudozh\n",
      "City #415: Parga\n",
      "City #416: Saint Anthony\n",
      "City #417: Harūr\n",
      "City #418: Inuvik\n",
      "City #419: Shalinskoye\n",
      "City #420: Eyl\n",
      "City #421: Russell\n",
      "City #422: Luangwa\n",
      "City #423: Sijunjung\n",
      "#424: sentyabrskiy not found.\n",
      "\n",
      "City #425: Okhotsk\n",
      "City #426: Tilichiki\n",
      "City #427: Bafra\n",
      "City #428: Veisiejai\n",
      "City #429: Fare\n",
      "City #430: Hope\n",
      "City #431: Broome\n",
      "City #432: Mbaïki\n",
      "#433: palabuhanratu not found.\n",
      "\n",
      "City #434: Popondetta\n",
      "City #435: Celestún\n",
      "City #436: Danielskuil\n",
      "#437: utiroa not found.\n",
      "\n",
      "City #438: Amurzet\n",
      "City #439: Arman'\n",
      "City #440: Road Town\n",
      "#441: cheuskiny not found.\n",
      "\n",
      "City #442: Xai-Xai\n",
      "City #443: Grajaú\n",
      "City #444: Antalaha\n",
      "#445: formoso do araguaia not found.\n",
      "\n",
      "City #446: Güimar\n",
      "City #447: Malbork\n",
      "#448: bacuit not found.\n",
      "\n",
      "City #449: Belyy Yar\n",
      "#450: dzhusaly not found.\n",
      "\n",
      "#451: jabiru not found.\n",
      "\n",
      "City #452: Vanimo\n",
      "City #453: Lagos\n",
      "City #454: Krasnoarmeysk\n",
      "#455: satitoa not found.\n",
      "\n",
      "#456: malwan not found.\n",
      "\n",
      "City #457: Ürümqi\n",
      "City #458: Porto Santo\n",
      "City #459: Sakakah\n",
      "City #460: Port Blair\n",
      "City #461: Galesong\n",
      "City #462: Belaya Gora\n",
      "City #463: Mīzan Teferī\n",
      "City #464: Bruneck\n",
      "City #465: Barcelos\n",
      "City #466: Pangnirtung\n",
      "City #467: Pundaguitan\n",
      "City #468: Yumen\n",
      "City #469: Viedma\n",
      "City #470: Cotonou\n",
      "City #471: Samtredia\n",
      "City #472: Emilio Carranza\n",
      "City #473: Armidale\n",
      "City #474: Aksu\n",
      "City #475: Samaipata\n",
      "City #476: San Francisco\n",
      "City #477: Bertoua\n",
      "City #478: Tosya\n",
      "City #479: Portland\n",
      "City #480: Korhogo\n",
      "#481: artyk not found.\n",
      "\n",
      "City #482: Arrondissement d'Issoudun\n",
      "City #483: Fortuna\n",
      "City #484: Pelym\n",
      "City #485: Ciudad Bolivar\n",
      "City #486: Tolyatti\n",
      "City #487: Aswān\n",
      "City #488: Tarko-Sale\n",
      "City #489: Onega\n",
      "City #490: Eldorado\n",
      "City #491: Kuytun\n",
      "City #492: Conceição da Barra\n",
      "City #493: Capaci\n",
      "City #494: Al Bardīyah\n",
      "City #495: Mossamedes\n",
      "City #496: Manggar\n",
      "City #497: Husavik\n",
      "City #498: Dongsheng\n",
      "City #499: Ancud\n",
      "City #500: Marawi\n",
      "City #501: San Fernando\n",
      "City #502: Madanapalle\n",
      "City #503: Belvedere Tiburon\n",
      "City #504: Bengkulu\n",
      "City #505: Nefteyugansk\n",
      "City #506: Sembakung\n",
      "City #507: Sítio Novo do Tocantins\n",
      "City #508: Richards Bay\n",
      "City #509: Ayan\n",
      "City #510: Erdenet\n",
      "City #511: Ascension\n",
      "City #512: Baiquan\n",
      "City #513: Auki\n",
      "#514: viligili not found.\n",
      "\n",
      "City #515: Paphos\n",
      "City #516: Tupik\n",
      "City #517: San Rafael\n",
      "City #518: Rawson\n",
      "City #519: Katav-Ivanovsk\n",
      "City #520: Zhireken\n",
      "City #521: Goderich\n",
      "City #522: Nouadhibou\n",
      "City #523: Sibut\n",
      "City #524: Mahon\n",
      "#525: toliary not found.\n",
      "\n",
      "City #526: Northam\n",
      "City #527: Blagoyevo\n",
      "City #528: Gari\n",
      "City #529: Cristalina\n",
      "City #530: Lokosovo\n",
      "City #531: Kropachëvo\n",
      "City #532: Pacific Grove\n",
      "City #533: Kutum\n",
      "City #534: San Juan\n",
      "City #535: Rockhampton\n",
      "City #536: Blackfoot\n",
      "#537: phan rang not found.\n",
      "\n",
      "City #538: Esim\n",
      "City #539: Chiradzulu\n",
      "City #540: Dwārka\n",
      "City #541: Kungurtug\n",
      "City #542: Kologriv\n",
      "City #543: Shestakovo\n",
      "City #544: Muaná\n",
      "City #545: La Palma\n",
      "City #546: Kirkuk\n",
      "City #547: Yermakovskoye\n",
      "City #548: Chengde\n",
      "City #549: Duma\n",
      "City #550: Vila\n",
      "City #551: Kiruna\n",
      "City #552: San Lorenzo\n",
      "#553: kilmez not found.\n",
      "\n",
      "City #554: Castelldefels\n",
      "City #555: Oberndorf\n",
      "City #556: Morgan City\n",
      "City #557: Klyuchi\n",
      "City #558: Ucluelet\n",
      "City #559: Inírida\n",
      "City #560: Ambulu\n",
      "City #561: Dingle\n",
      "City #562: Agüimes\n",
      "City #563: San Cristobal\n",
      "City #564: Burriana\n",
      "City #565: Russkiy Kameshkir\n",
      "City #566: Río Gallegos\n",
      "City #567: Nuuk\n",
      "City #568: Houston\n",
      "City #569: Vilcún\n",
      "City #570: Orchard Homes\n",
      "City #571: Zhob\n",
      "City #572: Pankrushikha\n",
      "City #573: Soyo\n",
      "City #574: Marsh Harbour\n",
      "City #575: Amapá\n",
      "City #576: Aklavik\n",
      "City #577: Camacha\n",
      "City #578: Riyadh\n",
      "City #579: Saint-Augustin\n",
      "City #580: Matsusaka\n",
      "City #581: Tongliao\n",
      "City #582: Mian Channu\n",
      "City #583: Pouébo\n",
      "City #584: Grafton\n",
      "City #585: Kautokeino\n",
      "City #586: Cabinda\n",
      "City #587: Guerrero Negro\n",
      "City #588: Opuwo\n",
      "#589: fillira not found.\n",
      "\n",
      "City #590: Stokmarknes\n",
      "City #591: Ust-Tsilma\n",
      "City #592: Pathein\n",
      "City #593: Seoul\n",
      "City #594: Beyneu\n",
      "City #595: Sobolevo\n",
      "City #596: Camaná\n",
      "City #597: Kindu\n",
      "City #598: Causwagan\n",
      "City #599: Sapouy\n",
      "City #600: Hoa Binh\n",
      "City #601: Avera\n",
      "City #602: Nanyang\n",
      "City #603: Missoula\n",
      "City #604: Acapulco de Juárez\n",
      "City #605: Caohai\n",
      "City #606: Kieta\n",
      "City #607: San Martín\n",
      "City #608: Olafsvik\n",
      "City #609: Takoradze\n",
      "City #610: Bara\n",
      "City #611: Fort Saint James\n",
      "City #612: Quatre Cocos\n",
      "City #613: Tangshan\n",
      "City #614: Najrān\n",
      "#615: mutsamudu not found.\n",
      "\n",
      "#616: fevralsk not found.\n",
      "\n",
      "City #617: Zadar\n",
      "City #618: Vila Velha\n",
      "City #619: Gīdam\n",
      "#620: kamenskoye not found.\n",
      "\n",
      "City #621: Mindelo\n",
      "City #622: Cardston\n",
      "City #623: Marzuq\n",
      "City #624: Makkah al Mukarramah\n",
      "City #625: Grand Gaube\n",
      "City #626: Liverpool\n",
      "City #627: Florianópolis\n"
     ]
    }
   ],
   "source": [
    "#base url\n",
    "url = \"http://api.openweathermap.org/data/2.5/weather?\"\n",
    "\n",
    "#query url\n",
    "query_url = f'{url}appid={weather_api_key}&q='\n",
    "\n",
    "\n",
    "city_names =[]\n",
    "lat=[]\n",
    "lng=[]\n",
    "max_temp=[]\n",
    "humidity=[]\n",
    "cloudiness=[]\n",
    "wind_speed=[]\n",
    "country=[]\n",
    "date=[]\n",
    "\n",
    "count = 1\n",
    "\n",
    "for city in cities:\n",
    "    try:\n",
    "        response = requests.get(query_url + city +'&units=imperial').json()\n",
    "\n",
    "        city_names.append(response['name'])\n",
    "        lat.append(response['coord']['lat'])\n",
    "        lng.append(response['coord']['lon'])\n",
    "        max_temp.append(response['main']['temp_max'])\n",
    "        humidity.append(response['main']['humidity'])\n",
    "        cloudiness.append(response['clouds']['all'])\n",
    "        wind_speed.append(response['wind']['speed'])\n",
    "        country.append(response['sys']['country'])\n",
    "        date.append(response['dt'])\n",
    "        \n",
    "        print(f\"City #{count}: {response['name']}\")\n",
    "        count = count + 1\n",
    "\n",
    "    except:\n",
    "        print(f'#{count}: {city} not found.\\n')\n",
    "        count = count + 1\n",
    "\n"
   ]
  },
  {
   "cell_type": "markdown",
   "metadata": {},
   "source": [
    "### Convert Raw Data to DataFrame\n",
    "* Export the city data into a .csv.\n",
    "* Display the DataFrame"
   ]
  },
  {
   "cell_type": "code",
   "execution_count": 5,
   "metadata": {},
   "outputs": [
    {
     "data": {
      "text/html": [
       "<div>\n",
       "<style scoped>\n",
       "    .dataframe tbody tr th:only-of-type {\n",
       "        vertical-align: middle;\n",
       "    }\n",
       "\n",
       "    .dataframe tbody tr th {\n",
       "        vertical-align: top;\n",
       "    }\n",
       "\n",
       "    .dataframe thead th {\n",
       "        text-align: right;\n",
       "    }\n",
       "</style>\n",
       "<table border=\"1\" class=\"dataframe\">\n",
       "  <thead>\n",
       "    <tr style=\"text-align: right;\">\n",
       "      <th></th>\n",
       "      <th>City</th>\n",
       "      <th>Lat</th>\n",
       "      <th>Lng</th>\n",
       "      <th>Max Temp</th>\n",
       "      <th>Humidity</th>\n",
       "      <th>Cloudiness</th>\n",
       "      <th>Wind Speed</th>\n",
       "      <th>Country</th>\n",
       "      <th>Date</th>\n",
       "    </tr>\n",
       "  </thead>\n",
       "  <tbody>\n",
       "    <tr>\n",
       "      <th>0</th>\n",
       "      <td>Vao</td>\n",
       "      <td>-22.6667</td>\n",
       "      <td>167.4833</td>\n",
       "      <td>66.74</td>\n",
       "      <td>63</td>\n",
       "      <td>0</td>\n",
       "      <td>13.96</td>\n",
       "      <td>NC</td>\n",
       "      <td>1631903887</td>\n",
       "    </tr>\n",
       "    <tr>\n",
       "      <th>1</th>\n",
       "      <td>Mahébourg</td>\n",
       "      <td>-20.4081</td>\n",
       "      <td>57.7000</td>\n",
       "      <td>72.25</td>\n",
       "      <td>94</td>\n",
       "      <td>40</td>\n",
       "      <td>6.91</td>\n",
       "      <td>MU</td>\n",
       "      <td>1631903888</td>\n",
       "    </tr>\n",
       "    <tr>\n",
       "      <th>2</th>\n",
       "      <td>Ostrovnoy</td>\n",
       "      <td>68.0531</td>\n",
       "      <td>39.5131</td>\n",
       "      <td>41.99</td>\n",
       "      <td>73</td>\n",
       "      <td>100</td>\n",
       "      <td>5.86</td>\n",
       "      <td>RU</td>\n",
       "      <td>1631903889</td>\n",
       "    </tr>\n",
       "    <tr>\n",
       "      <th>3</th>\n",
       "      <td>Albany</td>\n",
       "      <td>42.6001</td>\n",
       "      <td>-73.9662</td>\n",
       "      <td>76.08</td>\n",
       "      <td>79</td>\n",
       "      <td>78</td>\n",
       "      <td>6.91</td>\n",
       "      <td>US</td>\n",
       "      <td>1631903865</td>\n",
       "    </tr>\n",
       "    <tr>\n",
       "      <th>4</th>\n",
       "      <td>Port Alfred</td>\n",
       "      <td>-33.5906</td>\n",
       "      <td>26.8910</td>\n",
       "      <td>58.12</td>\n",
       "      <td>58</td>\n",
       "      <td>71</td>\n",
       "      <td>4.70</td>\n",
       "      <td>ZA</td>\n",
       "      <td>1631903890</td>\n",
       "    </tr>\n",
       "  </tbody>\n",
       "</table>\n",
       "</div>"
      ],
      "text/plain": [
       "          City      Lat       Lng  Max Temp  Humidity  Cloudiness  Wind Speed  \\\n",
       "0          Vao -22.6667  167.4833     66.74        63           0       13.96   \n",
       "1    Mahébourg -20.4081   57.7000     72.25        94          40        6.91   \n",
       "2    Ostrovnoy  68.0531   39.5131     41.99        73         100        5.86   \n",
       "3       Albany  42.6001  -73.9662     76.08        79          78        6.91   \n",
       "4  Port Alfred -33.5906   26.8910     58.12        58          71        4.70   \n",
       "\n",
       "  Country        Date  \n",
       "0      NC  1631903887  \n",
       "1      MU  1631903888  \n",
       "2      RU  1631903889  \n",
       "3      US  1631903865  \n",
       "4      ZA  1631903890  "
      ]
     },
     "execution_count": 5,
     "metadata": {},
     "output_type": "execute_result"
    }
   ],
   "source": [
    "weather_dict = {\n",
    "    'City': city_names,\n",
    "    'Lat': lat,\n",
    "    'Lng': lng,\n",
    "    'Max Temp': max_temp,\n",
    "    'Humidity': humidity,\n",
    "    'Cloudiness': cloudiness,\n",
    "    'Wind Speed': wind_speed,\n",
    "    'Country': country,\n",
    "    'Date': date\n",
    "}\n",
    "\n",
    "weather_df = pd.DataFrame(weather_dict)\n",
    "weather_df.head()\n",
    "\n"
   ]
  },
  {
   "cell_type": "code",
   "execution_count": 6,
   "metadata": {},
   "outputs": [
    {
     "data": {
      "text/html": [
       "<div>\n",
       "<style scoped>\n",
       "    .dataframe tbody tr th:only-of-type {\n",
       "        vertical-align: middle;\n",
       "    }\n",
       "\n",
       "    .dataframe tbody tr th {\n",
       "        vertical-align: top;\n",
       "    }\n",
       "\n",
       "    .dataframe thead th {\n",
       "        text-align: right;\n",
       "    }\n",
       "</style>\n",
       "<table border=\"1\" class=\"dataframe\">\n",
       "  <thead>\n",
       "    <tr style=\"text-align: right;\">\n",
       "      <th></th>\n",
       "      <th>Lat</th>\n",
       "      <th>Lng</th>\n",
       "      <th>Max Temp</th>\n",
       "      <th>Humidity</th>\n",
       "      <th>Cloudiness</th>\n",
       "      <th>Wind Speed</th>\n",
       "      <th>Date</th>\n",
       "    </tr>\n",
       "  </thead>\n",
       "  <tbody>\n",
       "    <tr>\n",
       "      <th>count</th>\n",
       "      <td>570.000000</td>\n",
       "      <td>570.000000</td>\n",
       "      <td>570.000000</td>\n",
       "      <td>570.000000</td>\n",
       "      <td>570.000000</td>\n",
       "      <td>570.000000</td>\n",
       "      <td>5.700000e+02</td>\n",
       "    </tr>\n",
       "    <tr>\n",
       "      <th>min</th>\n",
       "      <td>-54.800000</td>\n",
       "      <td>-175.200000</td>\n",
       "      <td>13.260000</td>\n",
       "      <td>8.000000</td>\n",
       "      <td>0.000000</td>\n",
       "      <td>0.000000</td>\n",
       "      <td>1.631903e+09</td>\n",
       "    </tr>\n",
       "    <tr>\n",
       "      <th>max</th>\n",
       "      <td>78.218600</td>\n",
       "      <td>178.416700</td>\n",
       "      <td>103.010000</td>\n",
       "      <td>100.000000</td>\n",
       "      <td>100.000000</td>\n",
       "      <td>28.770000</td>\n",
       "      <td>1.631904e+09</td>\n",
       "    </tr>\n",
       "    <tr>\n",
       "      <th>mean</th>\n",
       "      <td>20.762654</td>\n",
       "      <td>19.613684</td>\n",
       "      <td>66.932228</td>\n",
       "      <td>71.122807</td>\n",
       "      <td>53.222807</td>\n",
       "      <td>7.384877</td>\n",
       "      <td>1.631904e+09</td>\n",
       "    </tr>\n",
       "    <tr>\n",
       "      <th>std</th>\n",
       "      <td>32.732193</td>\n",
       "      <td>88.757020</td>\n",
       "      <td>17.293514</td>\n",
       "      <td>21.449389</td>\n",
       "      <td>40.359995</td>\n",
       "      <td>5.048697</td>\n",
       "      <td>1.194294e+02</td>\n",
       "    </tr>\n",
       "    <tr>\n",
       "      <th>firstq</th>\n",
       "      <td>-5.467875</td>\n",
       "      <td>-59.300075</td>\n",
       "      <td>52.667500</td>\n",
       "      <td>62.000000</td>\n",
       "      <td>9.000000</td>\n",
       "      <td>3.515000</td>\n",
       "      <td>1.631904e+09</td>\n",
       "    </tr>\n",
       "    <tr>\n",
       "      <th>median</th>\n",
       "      <td>26.816400</td>\n",
       "      <td>23.619750</td>\n",
       "      <td>71.475000</td>\n",
       "      <td>76.000000</td>\n",
       "      <td>56.500000</td>\n",
       "      <td>6.610000</td>\n",
       "      <td>1.631904e+09</td>\n",
       "    </tr>\n",
       "    <tr>\n",
       "      <th>secondq</th>\n",
       "      <td>46.846425</td>\n",
       "      <td>96.123875</td>\n",
       "      <td>79.022500</td>\n",
       "      <td>87.000000</td>\n",
       "      <td>98.000000</td>\n",
       "      <td>9.995000</td>\n",
       "      <td>1.631904e+09</td>\n",
       "    </tr>\n",
       "  </tbody>\n",
       "</table>\n",
       "</div>"
      ],
      "text/plain": [
       "                Lat         Lng    Max Temp    Humidity  Cloudiness  \\\n",
       "count    570.000000  570.000000  570.000000  570.000000  570.000000   \n",
       "min      -54.800000 -175.200000   13.260000    8.000000    0.000000   \n",
       "max       78.218600  178.416700  103.010000  100.000000  100.000000   \n",
       "mean      20.762654   19.613684   66.932228   71.122807   53.222807   \n",
       "std       32.732193   88.757020   17.293514   21.449389   40.359995   \n",
       "firstq    -5.467875  -59.300075   52.667500   62.000000    9.000000   \n",
       "median    26.816400   23.619750   71.475000   76.000000   56.500000   \n",
       "secondq   46.846425   96.123875   79.022500   87.000000   98.000000   \n",
       "\n",
       "         Wind Speed          Date  \n",
       "count    570.000000  5.700000e+02  \n",
       "min        0.000000  1.631903e+09  \n",
       "max       28.770000  1.631904e+09  \n",
       "mean       7.384877  1.631904e+09  \n",
       "std        5.048697  1.194294e+02  \n",
       "firstq     3.515000  1.631904e+09  \n",
       "median     6.610000  1.631904e+09  \n",
       "secondq    9.995000  1.631904e+09  "
      ]
     },
     "execution_count": 6,
     "metadata": {},
     "output_type": "execute_result"
    }
   ],
   "source": [
    "def firstq(ser):\n",
    "    return ser.quantile(.25)\n",
    "\n",
    "def secondq(ser):\n",
    "    return ser.quantile(.75)\n",
    "\n",
    "summary_df = weather_df.agg(['count','mean','std','min',firstq, 'median', secondq, 'max'])[['Lat', 'Lng','Max Temp', 'Humidity', 'Cloudiness', 'Wind Speed', 'Date']]\n",
    "\n",
    "# summary_df = summary_df.rename(index={\"firstq\": \"25%\", \"median\": \"50%\", \"secondq\": \"75%\"})\n",
    "\n",
    "summary_df\n"
   ]
  },
  {
   "cell_type": "code",
   "execution_count": 7,
   "metadata": {},
   "outputs": [],
   "source": [
    "weather_df.to_csv('weatherdata.csv')"
   ]
  },
  {
   "cell_type": "markdown",
   "metadata": {},
   "source": [
    "## Inspect the data and remove the cities where the humidity > 100%.\n",
    "----\n",
    "Skip this step if there are no cities that have humidity > 100%. "
   ]
  },
  {
   "cell_type": "code",
   "execution_count": 8,
   "metadata": {},
   "outputs": [
    {
     "data": {
      "text/plain": [
       "570"
      ]
     },
     "execution_count": 8,
     "metadata": {},
     "output_type": "execute_result"
    }
   ],
   "source": [
    "len(weather_df)"
   ]
  },
  {
   "cell_type": "code",
   "execution_count": 9,
   "metadata": {},
   "outputs": [
    {
     "data": {
      "text/plain": [
       "Int64Index([], dtype='int64')"
      ]
     },
     "execution_count": 9,
     "metadata": {},
     "output_type": "execute_result"
    }
   ],
   "source": [
    "#  Get the indices of cities that have humidity over 100%.\n",
    "index_series = weather_df[weather_df['Humidity'] > 100].index\n",
    "index_series"
   ]
  },
  {
   "cell_type": "code",
   "execution_count": 10,
   "metadata": {},
   "outputs": [
    {
     "data": {
      "text/plain": [
       "570"
      ]
     },
     "execution_count": 10,
     "metadata": {},
     "output_type": "execute_result"
    }
   ],
   "source": [
    "# Make a new DataFrame equal to the city data to drop all humidity outliers by index.\n",
    "# Passing \"inplace=False\" will make a copy of the city_data DataFrame, which we call \"clean_city_data\".\n",
    "weather_df = weather_df.drop(index_series)\n",
    "len(weather_df)"
   ]
  },
  {
   "cell_type": "code",
   "execution_count": null,
   "metadata": {},
   "outputs": [],
   "source": [
    "\n"
   ]
  },
  {
   "cell_type": "markdown",
   "metadata": {},
   "source": [
    "## Plotting the Data\n",
    "* Use proper labeling of the plots using plot titles (including date of analysis) and axes labels.\n",
    "* Save the plotted figures as .pngs."
   ]
  },
  {
   "cell_type": "markdown",
   "metadata": {},
   "source": [
    "## Latitude vs. Temperature Plot"
   ]
  },
  {
   "cell_type": "code",
   "execution_count": 11,
   "metadata": {
    "scrolled": true
   },
   "outputs": [
    {
     "data": {
      "image/png": "[encoded data removed]",
      "text/plain": [
       "<Figure size 432x288 with 1 Axes>"
      ]
     },
     "metadata": {
      "needs_background": "light"
     },
     "output_type": "display_data"
    }
   ],
   "source": [
    "x = weather_df['Lat']\n",
    "\n",
    "y = weather_df['Max Temp']\n",
    "\n",
    "date = weather_df['Date'][0]\n",
    "\n",
    "\n",
    "plt.scatter(x,y)\n",
    "\n",
    "# format\n",
    "plt.grid()\n",
    "plt.xlabel(\"Latitude\")\n",
    "plt.ylabel(\"Max Temperature (F)\")\n",
    "plt.title(f\"City Latitude Vs. Max Temperature for {date}\")\n",
    "\n",
    "plt.savefig('Latitude_vs_Temperature_Plot.png')\n",
    "plt.show()\n"
   ]
  },
  {
   "cell_type": "markdown",
   "metadata": {},
   "source": [
    "## Latitude vs. Humidity Plot"
   ]
  },
  {
   "cell_type": "code",
   "execution_count": 12,
   "metadata": {},
   "outputs": [
    {
     "data": {
      "image/png": "[encoded data removed]",
      "text/plain": [
       "<Figure size 432x288 with 1 Axes>"
      ]
     },
     "metadata": {
      "needs_background": "light"
     },
     "output_type": "display_data"
    }
   ],
   "source": [
    "x = weather_df['Lat']\n",
    "\n",
    "y = weather_df['Humidity']\n",
    "\n",
    "date = weather_df['Date'][0]\n",
    "\n",
    "\n",
    "plt.scatter(x,y)\n",
    "\n",
    "# format\n",
    "plt.grid()\n",
    "plt.xlabel(\"Latitude\")\n",
    "plt.ylabel(\"Humidity %\")\n",
    "plt.title(f\"City Latitude Vs. Humidity for {date}\")\n",
    "\n",
    "plt.savefig('Latitude_vs_Humidity_Plot.png')\n",
    "plt.show()"
   ]
  },
  {
   "cell_type": "markdown",
   "metadata": {},
   "source": [
    "## Latitude vs. Cloudiness Plot"
   ]
  },
  {
   "cell_type": "code",
   "execution_count": 13,
   "metadata": {},
   "outputs": [
    {
     "data": {
      "image/png": "[encoded data removed]",
      "text/plain": [
       "<Figure size 432x288 with 1 Axes>"
      ]
     },
     "metadata": {
      "needs_background": "light"
     },
     "output_type": "display_data"
    }
   ],
   "source": [
    "x = weather_df['Lat']\n",
    "\n",
    "y = weather_df['Cloudiness']\n",
    "\n",
    "date = weather_df['Date'][0]\n",
    "\n",
    "\n",
    "plt.scatter(x,y)\n",
    "\n",
    "# format\n",
    "plt.grid()\n",
    "plt.xlabel(\"Latitude\")\n",
    "plt.ylabel(\"Cloudiness\")\n",
    "plt.title(f\"City Latitude Vs. Cloudiness for {date}\")\n",
    "\n",
    "plt.savefig('Latitude_vs_Cloudiness_Plot.png')\n",
    "plt.show()"
   ]
  },
  {
   "cell_type": "markdown",
   "metadata": {},
   "source": [
    "## Latitude vs. Wind Speed Plot"
   ]
  },
  {
   "cell_type": "code",
   "execution_count": 14,
   "metadata": {},
   "outputs": [
    {
     "data": {
      "image/png": "[encoded data removed]",
      "text/plain": [
       "<Figure size 432x288 with 1 Axes>"
      ]
     },
     "metadata": {
      "needs_background": "light"
     },
     "output_type": "display_data"
    }
   ],
   "source": [
    "x = weather_df['Lat']\n",
    "\n",
    "y = weather_df['Wind Speed']\n",
    "\n",
    "date = weather_df['Date'][0]\n",
    "\n",
    "\n",
    "plt.scatter(x,y)\n",
    "\n",
    "# format\n",
    "plt.grid()\n",
    "plt.xlabel(\"Latitude\")\n",
    "plt.ylabel(\"Wind Speed\")\n",
    "plt.title(f\"City Latitude Vs. Wind Speed for {date}\")\n",
    "\n",
    "plt.savefig('Latitude_vs_WindSpeed_Plot.png')\n",
    "plt.show()"
   ]
  },
  {
   "cell_type": "markdown",
   "metadata": {},
   "source": [
    "## Linear Regression"
   ]
  },
  {
   "cell_type": "code",
   "execution_count": 15,
   "metadata": {},
   "outputs": [],
   "source": [
    "# northern hemisphere latitudes are positive\n",
    "north_df = weather_df[weather_df['Lat'] >= 0]\n",
    "\n",
    "south_df = weather_df[weather_df['Lat'] < 0]\n"
   ]
  },
  {
   "cell_type": "markdown",
   "metadata": {},
   "source": [
    "####  Northern Hemisphere - Max Temp vs. Latitude Linear Regression"
   ]
  },
  {
   "cell_type": "code",
   "execution_count": 19,
   "metadata": {},
   "outputs": [
    {
     "name": "stdout",
     "output_type": "stream",
     "text": [
      "The r-value is: -0.8195201705489961\n"
     ]
    },
    {
     "data": {
      "image/png": "[encoded data removed]",
      "text/plain": [
       "<Figure size 432x288 with 1 Axes>"
      ]
     },
     "metadata": {
      "needs_background": "light"
     },
     "output_type": "display_data"
    }
   ],
   "source": [
    "x = north_df['Lat']\n",
    "y = north_df['Max Temp']\n",
    "\n",
    "\n",
    "plt.scatter(x, y)\n",
    "\n",
    "slope, intercept, r, p, se = linregress(x, y)\n",
    "\n",
    "y_linear = slope*x +intercept\n",
    "plt.plot(x,y_linear, color='red')\n",
    "\n",
    "print(f'The r-value is: {r}')\n",
    "\n",
    "# format\n",
    "plt.grid()\n",
    "plt.xlabel(\"Latitude\")\n",
    "plt.ylabel(\"Max Temperature (F)\")\n",
    "plt.title(f\" Northern Hemisphere - Max Temp vs. Latitude\")\n",
    "plt.annotate(f'y={slope.round(2)}x + {intercept.round(2)}',(40,100),fontsize=12,color=\"red\")\n",
    "\n",
    "plt.savefig('NorthHemisphere_MaxTemp_vs_Latitude_LinRegression.png')\n",
    "plt.show()"
   ]
  },
  {
   "cell_type": "markdown",
   "metadata": {},
   "source": [
    "####  Southern Hemisphere - Max Temp vs. Latitude Linear Regression"
   ]
  },
  {
   "cell_type": "code",
   "execution_count": 22,
   "metadata": {},
   "outputs": [
    {
     "name": "stdout",
     "output_type": "stream",
     "text": [
      "The r-value is: 0.7384112585559731\n"
     ]
    },
    {
     "data": {
      "image/png": "[encoded data removed]",
      "text/plain": [
       "<Figure size 432x288 with 1 Axes>"
      ]
     },
     "metadata": {
      "needs_background": "light"
     },
     "output_type": "display_data"
    }
   ],
   "source": [
    "x = south_df['Lat']\n",
    "y = south_df['Max Temp']\n",
    "\n",
    "\n",
    "plt.scatter(x, y)\n",
    "\n",
    "slope, intercept, r, p, se = linregress(x, y)\n",
    "\n",
    "y_linear = slope*x +intercept\n",
    "plt.plot(x,y_linear, color='red')\n",
    "\n",
    "print(f'The r-value is: {r}')\n",
    "\n",
    "# format\n",
    "plt.grid()\n",
    "plt.xlabel(\"Latitude\")\n",
    "plt.ylabel(\"Max Temperature (F)\")\n",
    "plt.title(f\" Southern Hemisphere - Max Temp vs. Latitude\")\n",
    "plt.annotate(f'y={slope.round(2)}x + {intercept.round(2)}',(-30,50),fontsize=12,color=\"red\")\n",
    "\n",
    "plt.savefig('SouthHemisphere_MaxTemp_vs_Latitude_LinRegression.png')\n",
    "plt.show()"
   ]
  },
  {
   "cell_type": "markdown",
   "metadata": {},
   "source": [
    "####  Northern Hemisphere - Humidity (%) vs. Latitude Linear Regression"
   ]
  },
  {
   "cell_type": "code",
   "execution_count": 23,
   "metadata": {},
   "outputs": [
    {
     "name": "stdout",
     "output_type": "stream",
     "text": [
      "The r-value is: 0.08849381880665017\n"
     ]
    },
    {
     "data": {
      "image/png": "[encoded data removed]",
      "text/plain": [
       "<Figure size 432x288 with 1 Axes>"
      ]
     },
     "metadata": {
      "needs_background": "light"
     },
     "output_type": "display_data"
    }
   ],
   "source": [
    "x = north_df['Lat']\n",
    "y = north_df['Humidity']\n",
    "\n",
    "\n",
    "plt.scatter(x, y)\n",
    "\n",
    "slope, intercept, r, p, se = linregress(x, y)\n",
    "\n",
    "y_linear = slope*x +intercept\n",
    "plt.plot(x,y_linear, color='red')\n",
    "\n",
    "print(f'The r-value is: {r}')\n",
    "\n",
    "# format\n",
    "plt.grid()\n",
    "plt.xlabel(\"Humidity\")\n",
    "plt.ylabel(\"Humidity (%)\")\n",
    "plt.title(f\"Northern Hemisphere - Humidity (%) vs. Latitude \")\n",
    "plt.annotate(f'y={slope.round(2)}x + {intercept.round(2)}',(50,40),fontsize=12,color=\"red\")\n",
    "\n",
    "plt.savefig('NorthHemisphere_Humidity_vs_Latitude_LinRegression.png')\n",
    "plt.show()"
   ]
  },
  {
   "cell_type": "markdown",
   "metadata": {},
   "source": [
    "####  Southern Hemisphere - Humidity (%) vs. Latitude Linear Regression"
   ]
  },
  {
   "cell_type": "code",
   "execution_count": 24,
   "metadata": {},
   "outputs": [
    {
     "name": "stdout",
     "output_type": "stream",
     "text": [
      "The r-value is: 0.04078282240599172\n"
     ]
    },
    {
     "data": {
      "image/png": "[encoded data removed]",
      "text/plain": [
       "<Figure size 432x288 with 1 Axes>"
      ]
     },
     "metadata": {
      "needs_background": "light"
     },
     "output_type": "display_data"
    }
   ],
   "source": [
    "x = south_df['Lat']\n",
    "y = south_df['Humidity']\n",
    "\n",
    "\n",
    "plt.scatter(x, y)\n",
    "\n",
    "slope, intercept, r, p, se = linregress(x, y)\n",
    "\n",
    "y_linear = slope*x +intercept\n",
    "plt.plot(x,y_linear, color='red')\n",
    "\n",
    "print(f'The r-value is: {r}')\n",
    "\n",
    "# format\n",
    "plt.grid()\n",
    "plt.xlabel(\"Latitude\")\n",
    "plt.ylabel(\"Humidity (%)\")\n",
    "plt.title(f\"Southern Hemisphere - Humidity (%) vs. Latitude \")\n",
    "plt.annotate(f'y={slope.round(2)}x + {intercept.round(2)}',(-30,40),fontsize=12,color=\"red\")\n",
    "\n",
    "plt.savefig('SouthHemisphere_Humidity_vs_Latitude_LinRegression.png')\n",
    "plt.show()"
   ]
  },
  {
   "cell_type": "markdown",
   "metadata": {},
   "source": [
    "####  Northern Hemisphere - Cloudiness (%) vs. Latitude Linear Regression"
   ]
  },
  {
   "cell_type": "code",
   "execution_count": 25,
   "metadata": {},
   "outputs": [
    {
     "name": "stdout",
     "output_type": "stream",
     "text": [
      "The r-value is: 0.05126756865733889\n"
     ]
    },
    {
     "data": {
      "image/png": "[encoded data removed]",
      "text/plain": [
       "<Figure size 432x288 with 1 Axes>"
      ]
     },
     "metadata": {
      "needs_background": "light"
     },
     "output_type": "display_data"
    }
   ],
   "source": [
    "x = north_df['Lat']\n",
    "y = north_df['Cloudiness']\n",
    "\n",
    "\n",
    "plt.scatter(x, y)\n",
    "\n",
    "slope, intercept, r, p, se = linregress(x, y)\n",
    "\n",
    "y_linear = slope*x +intercept\n",
    "plt.plot(x,y_linear, color='red')\n",
    "\n",
    "print(f'The r-value is: {r}')\n",
    "\n",
    "# format\n",
    "plt.grid()\n",
    "plt.xlabel(\"Latitude\")\n",
    "plt.ylabel(\"Cloudiness (%)\")\n",
    "plt.title(f\"Northern Hemisphere - Cloudiness (%) vs. Latitude \")\n",
    "plt.annotate(f'y={slope.round(2)}x + {intercept.round(2)}',(-30,40),fontsize=12,color=\"red\")\n",
    "\n",
    "plt.savefig('NorthHemisphere_Cloudiness_vs_Latitude_LinRegression.png')\n",
    "plt.show()"
   ]
  },
  {
   "cell_type": "markdown",
   "metadata": {},
   "source": [
    "####  Southern Hemisphere - Cloudiness (%) vs. Latitude Linear Regression"
   ]
  },
  {
   "cell_type": "code",
   "execution_count": 26,
   "metadata": {},
   "outputs": [
    {
     "name": "stdout",
     "output_type": "stream",
     "text": [
      "The r-value is: 0.22380028579648953\n"
     ]
    },
    {
     "data": {
      "image/png": "[encoded data removed]",
      "text/plain": [
       "<Figure size 432x288 with 1 Axes>"
      ]
     },
     "metadata": {
      "needs_background": "light"
     },
     "output_type": "display_data"
    }
   ],
   "source": [
    "x = south_df['Lat']\n",
    "y = south_df['Cloudiness']\n",
    "\n",
    "\n",
    "plt.scatter(x, y)\n",
    "\n",
    "slope, intercept, r, p, se = linregress(x, y)\n",
    "\n",
    "y_linear = slope*x +intercept\n",
    "plt.plot(x,y_linear, color='red')\n",
    "\n",
    "print(f'The r-value is: {r}')\n",
    "\n",
    "# format\n",
    "plt.grid()\n",
    "plt.xlabel(\"Latitude\")\n",
    "plt.ylabel(\"Cloudiness (%)\")\n",
    "plt.title(f\"Southern Hemisphere - Cloudiness (%) vs. Latitude \")\n",
    "plt.annotate(f'y={slope.round(2)}x + {intercept.round(2)}',(-30,40),fontsize=12,color=\"red\")\n",
    "\n",
    "plt.savefig('SouthHemisphere_Cloudiness_vs_Latitude_LinRegression.png')\n",
    "plt.show()"
   ]
  },
  {
   "cell_type": "markdown",
   "metadata": {},
   "source": [
    "####  Northern Hemisphere - Wind Speed (mph) vs. Latitude Linear Regression"
   ]
  },
  {
   "cell_type": "code",
   "execution_count": 27,
   "metadata": {},
   "outputs": [
    {
     "name": "stdout",
     "output_type": "stream",
     "text": [
      "The r-value is: 0.11338070226156513\n"
     ]
    },
    {
     "data": {
      "image/png": "[encoded data removed]",
      "text/plain": [
       "<Figure size 432x288 with 1 Axes>"
      ]
     },
     "metadata": {
      "needs_background": "light"
     },
     "output_type": "display_data"
    }
   ],
   "source": [
    "x = north_df['Lat']\n",
    "y = north_df['Wind Speed']\n",
    "\n",
    "\n",
    "plt.scatter(x, y)\n",
    "\n",
    "slope, intercept, r, p, se = linregress(x, y)\n",
    "\n",
    "y_linear = slope*x +intercept\n",
    "plt.plot(x,y_linear, color='red')\n",
    "\n",
    "print(f'The r-value is: {r}')\n",
    "\n",
    "# format\n",
    "plt.grid()\n",
    "plt.xlabel(\"Latitude\")\n",
    "plt.ylabel(\"Wind Speed (mph)\")\n",
    "plt.title(f\"Northern Hemisphere - Wind Speed (mph) vs. Latitude \")\n",
    "plt.annotate(f'y={slope.round(2)}x + {intercept.round(2)}',(10,8),fontsize=12,color=\"red\")\n",
    "\n",
    "plt.savefig('NorthHemisphere_WindSpeed_vs_Latitude_LinRegression.png')\n",
    "plt.show()"
   ]
  },
  {
   "cell_type": "markdown",
   "metadata": {},
   "source": [
    "####  Southern Hemisphere - Wind Speed (mph) vs. Latitude Linear Regression"
   ]
  },
  {
   "cell_type": "code",
   "execution_count": 28,
   "metadata": {},
   "outputs": [
    {
     "name": "stdout",
     "output_type": "stream",
     "text": [
      "The r-value is: -0.08349385326102417\n"
     ]
    },
    {
     "data": {
      "image/png": "[encoded data removed]",
      "text/plain": [
       "<Figure size 432x288 with 1 Axes>"
      ]
     },
     "metadata": {
      "needs_background": "light"
     },
     "output_type": "display_data"
    }
   ],
   "source": [
    "x = south_df['Lat']\n",
    "y = south_df['Wind Speed']\n",
    "\n",
    "\n",
    "plt.scatter(x, y)\n",
    "\n",
    "slope, intercept, r, p, se = linregress(x, y)\n",
    "\n",
    "y_linear = slope*x +intercept\n",
    "plt.plot(x,y_linear, color='red')\n",
    "\n",
    "print(f'The r-value is: {r}')\n",
    "\n",
    "# format\n",
    "plt.grid()\n",
    "plt.xlabel(\"Latitude\")\n",
    "plt.ylabel(\"Wind Speed (mph)\")\n",
    "plt.title(f\"Southern Hemisphere - Wind Speed (mph) vs. Latitude \")\n",
    "plt.annotate(f'y={slope.round(2)}x + {intercept.round(2)}',(10,8),fontsize=12,color=\"red\")\n",
    "\n",
    "plt.savefig('SouthHemisphere_WindSpeed_vs_Latitude_LinRegression.png')\n",
    "plt.show()"
   ]
  },
  {
   "cell_type": "code",
   "execution_count": null,
   "metadata": {},
   "outputs": [],
   "source": []
  },
  {
   "cell_type": "code",
   "execution_count": null,
   "metadata": {},
   "outputs": [],
   "source": []
  }
 ],
 "metadata": {
  "anaconda-cloud": {},
  "kernel_info": {
   "name": "python3"
  },
  "kernelspec": {
   "display_name": "Python 3",
   "language": "python",
   "name": "python3"
  },
  "language_info": {
   "codemirror_mode": {
    "name": "ipython",
    "version": 3
   },
   "file_extension": ".py",
   "mimetype": "text/x-python",
   "name": "python",
   "nbconvert_exporter": "python",
   "pygments_lexer": "ipython3",
   "version": "3.6.10"
  },
  "latex_envs": {
   "LaTeX_envs_menu_present": true,
   "autoclose": false,
   "autocomplete": true,
   "bibliofile": "biblio.bib",
   "cite_by": "apalike",
   "current_citInitial": 1,
   "eqLabelWithNumbers": true,
   "eqNumInitial": 1,
   "hotkeys": {
    "equation": "Ctrl-E",
    "itemize": "Ctrl-I"
   },
   "labels_anchors": false,
   "latex_user_defs": false,
   "report_style_numbering": false,
   "user_envs_cfg": false
  },
  "nteract": {
   "version": "0.12.3"
  }
 },
 "nbformat": 4,
 "nbformat_minor": 4
}
