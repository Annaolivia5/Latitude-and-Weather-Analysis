{
 "cells": [
  {
   "cell_type": "markdown",
   "metadata": {},
   "source": [
    "# WeatherPy\n",
    "----\n",
    "\n",
    "#### Note\n",
    "* Instructions have been included for each segment. You do not have to follow them exactly, but they are included to help you think through the steps."
   ]
  },
  {
   "cell_type": "code",
   "execution_count": 1,
   "metadata": {
    "scrolled": true
   },
   "outputs": [],
   "source": [
    "# Dependencies and Setup\n",
    "import matplotlib.pyplot as plt\n",
    "import pandas as pd\n",
    "import numpy as np\n",
    "import requests\n",
    "import time\n",
    "from scipy.stats import linregress\n",
    "from pprint import pprint\n",
    "\n",
    "# Import API key\n",
    "from api_keys import weather_api_key\n",
    "\n",
    "# Incorporated citipy to determine city based on latitude and longitude\n",
    "from citipy import citipy\n",
    "\n",
    "# Output File (CSV)\n",
    "output_data_file = \"output_data/cities.csv\"\n",
    "\n",
    "# Range of latitudes and longitudes\n",
    "lat_range = (-90, 90)\n",
    "lng_range = (-180, 180)"
   ]
  },
  {
   "cell_type": "markdown",
   "metadata": {},
   "source": [
    "## Generate Cities List"
   ]
  },
  {
   "cell_type": "code",
   "execution_count": 2,
   "metadata": {},
   "outputs": [
    {
     "data": {
      "text/plain": [
       "578"
      ]
     },
     "execution_count": 2,
     "metadata": {},
     "output_type": "execute_result"
    }
   ],
   "source": [
    "# List for holding lat_lngs and cities\n",
    "lat_lngs = []\n",
    "cities = []\n",
    "\n",
    "# Create a set of random lat and lng combinations\n",
    "lats = np.random.uniform(lat_range[0], lat_range[1], size=1500)\n",
    "lngs = np.random.uniform(lng_range[0], lng_range[1], size=1500)\n",
    "lat_lngs = zip(lats, lngs)\n",
    "\n",
    "# Identify nearest city for each lat, lng combination\n",
    "for lat_lng in lat_lngs:\n",
    "    city = citipy.nearest_city(lat_lng[0], lat_lng[1]).city_name\n",
    "    \n",
    "    # If the city is unique, then add it to a our cities list\n",
    "    if city not in cities:\n",
    "        cities.append(city)\n",
    "\n",
    "# Print the city count to confirm sufficient count\n",
    "len(cities)\n"
   ]
  },
  {
   "cell_type": "markdown",
   "metadata": {},
   "source": [
    "### Perform API Calls\n",
    "* Perform a weather check on each city using a series of successive API calls.\n",
    "* Include a print log of each city as it'sbeing processed (with the city number and city name).\n"
   ]
  },
  {
   "cell_type": "code",
   "execution_count": 3,
   "metadata": {
    "scrolled": true
   },
   "outputs": [
    {
     "name": "stdout",
     "output_type": "stream",
     "text": [
      "City #1: Vaini\n",
      "City #2: Los Llanos de Aridane\n",
      "City #3: Geraldton\n",
      "City #4: Westerland\n",
      "City #5: Genhe\n",
      "City #6: Tasiilaq\n",
      "City #7: Dhidhdhoo\n",
      "City #8: Lorengau\n",
      "#9: belushya guba not found.\n",
      "\n",
      "City #10: Rikitea\n",
      "City #11: Myitkyina\n",
      "City #12: Hofn\n",
      "City #13: Kutum\n",
      "City #14: Butaritari\n",
      "#15: taolanaro not found.\n",
      "\n",
      "City #16: Jamestown\n",
      "City #17: Honāvar\n",
      "City #18: Maniitsoq\n",
      "City #19: Severo-Kuril'sk\n",
      "City #20: Chokurdakh\n",
      "City #21: Busselton\n",
      "City #22: Qarayeri\n",
      "City #23: Bluff\n",
      "City #24: Liverpool\n",
      "#25: vaitupu not found.\n",
      "\n",
      "City #26: Isangel\n",
      "City #27: Ilhabela\n",
      "City #28: Corat\n",
      "#29: barentsburg not found.\n",
      "\n",
      "City #30: Praia\n",
      "City #31: Bredasdorp\n",
      "City #32: Narsaq\n",
      "City #33: Cabedelo\n",
      "City #34: Grindavik\n",
      "City #35: Castro\n",
      "City #36: Kiunga\n",
      "City #37: Puerto Ayora\n",
      "City #38: Marshfield\n",
      "City #39: Cape Town\n",
      "City #40: Touho\n",
      "City #41: Arraial do Cabo\n",
      "#42: lolua not found.\n",
      "\n",
      "City #43: Bereda\n",
      "City #44: Coquimbo\n",
      "City #45: Martapura\n",
      "City #46: Greenville\n",
      "City #47: Matata\n",
      "City #48: Vila Franca do Campo\n",
      "City #49: Fortuna\n",
      "City #50: Bathsheba\n",
      "City #51: Saldanha\n",
      "City #52: Aden\n",
      "City #53: San Juan\n",
      "City #54: Oktyabr'skiy\n",
      "City #55: Imbituba\n",
      "City #56: Alta Floresta\n",
      "City #57: Kavaratti\n",
      "City #58: Mar del Plata\n",
      "City #59: Yellowknife\n",
      "City #60: Port Blair\n",
      "City #61: Kapaa\n",
      "City #62: Westport\n",
      "City #63: Cape Coast\n",
      "City #64: Ushuaia\n",
      "City #65: Muscat\n",
      "City #66: Khatanga\n",
      "City #67: Yar-Sale\n",
      "City #68: Dikson\n",
      "City #69: Chui\n",
      "City #70: Sept-Îles\n",
      "City #71: Nouadhibou\n",
      "City #72: Galveston\n",
      "City #73: Najrān\n",
      "City #74: New Norfolk\n",
      "City #75: Upernavik\n",
      "City #76: Kasongo\n",
      "City #77: Wuwei\n",
      "City #78: Varkaus\n",
      "City #79: Codrington\n",
      "City #80: Punta Arenas\n",
      "#81: mys shmidta not found.\n",
      "\n",
      "City #82: Laguna de Perlas\n",
      "City #83: Avarua\n",
      "#84: palabuhanratu not found.\n",
      "\n",
      "City #85: Ubari\n",
      "City #86: Tuktoyaktuk\n",
      "City #87: Port Elizabeth\n",
      "City #88: Atuona\n",
      "City #89: Keshod\n",
      "#90: amderma not found.\n",
      "\n",
      "City #91: Clyde River\n",
      "City #92: Itupiranga\n",
      "City #93: Hermanus\n",
      "City #94: Barrow\n",
      "City #95: Mataura\n",
      "#96: tsihombe not found.\n",
      "\n",
      "City #97: Hilo\n",
      "City #98: Roald\n",
      "City #99: Mount Gambier\n",
      "City #100: Carnarvon\n",
      "City #101: Makakilo City\n",
      "City #102: Mehamn\n",
      "City #103: Puteyets\n",
      "City #104: Albany\n",
      "City #105: Chalmette\n",
      "City #106: Kincardine\n",
      "City #107: Faya\n",
      "City #108: Sioux Lookout\n",
      "City #109: George Town\n",
      "City #110: Tiksi\n",
      "City #111: Qaanaaq\n",
      "City #112: Araouane\n",
      "City #113: Hearst\n",
      "City #114: Marystown\n",
      "City #115: Hambantota\n",
      "City #116: Vostok\n",
      "#117: saryshagan not found.\n",
      "\n",
      "City #118: Thompson\n",
      "City #119: Nome\n",
      "City #120: Lompoc\n",
      "City #121: Padang\n",
      "City #122: Salta\n",
      "City #123: Sola\n",
      "City #124: Bengkulu\n",
      "City #125: Saint Paul Harbor\n",
      "#126: saleaula not found.\n",
      "\n",
      "City #127: Yangi Marg`ilon\n",
      "City #128: Mahébourg\n",
      "City #129: Hithadhoo\n",
      "City #130: Poum\n",
      "#131: illoqqortoormiut not found.\n",
      "\n",
      "#132: burica not found.\n",
      "\n",
      "City #133: Saint-Philippe\n",
      "City #134: Cuamba\n",
      "City #135: Saint George\n",
      "City #136: Lebu\n",
      "City #137: Baykit\n",
      "City #138: Bud\n",
      "City #139: Na Klang\n",
      "City #140: Bintulu\n",
      "#141: tumannyy not found.\n",
      "\n",
      "City #142: Flinders\n",
      "City #143: Te Anau\n",
      "City #144: Debre Sīna\n",
      "City #145: Shaoyang\n",
      "City #146: Sharkan\n",
      "#147: bargal not found.\n",
      "\n",
      "City #148: Ponta do Sol\n",
      "City #149: Bethel\n",
      "City #150: Tashtyp\n",
      "City #151: Cayenne\n",
      "City #152: Naze\n",
      "City #153: Itarema\n",
      "City #154: Egvekinot\n",
      "City #155: Evensk\n",
      "City #156: Roebourne\n",
      "City #157: Labuhan\n",
      "City #158: Novopokrovskaya\n",
      "City #159: Raudeberg\n",
      "City #160: Riyadh\n",
      "City #161: Harper\n",
      "City #162: Bambous Virieux\n",
      "City #163: Caravelas\n",
      "City #164: Valparaíso\n",
      "City #165: Ancud\n",
      "City #166: Faanui\n",
      "City #167: Olafsvik\n",
      "City #168: Smithers\n",
      "City #169: Kaa-Khem\n",
      "#170: marcona not found.\n",
      "\n",
      "City #171: Hong Kong\n",
      "City #172: Airai\n",
      "City #173: The Pas\n",
      "City #174: Hobart\n",
      "City #175: Colombia\n",
      "City #176: Aloleng\n",
      "#177: tabialan not found.\n",
      "\n",
      "City #178: Kampot\n",
      "City #179: Inírida\n",
      "City #180: Comodoro Rivadavia\n",
      "City #181: Cidreira\n",
      "City #182: Ishigaki\n",
      "City #183: East London\n",
      "City #184: Malakal\n",
      "#185: urdzhar not found.\n",
      "\n",
      "City #186: Torbay\n",
      "City #187: São José da Coroa Grande\n",
      "City #188: Longyearbyen\n",
      "City #189: Meulaboh\n",
      "City #190: Nikolskoye\n",
      "City #191: Manuk Mangkaw\n",
      "City #192: Manicoré\n",
      "City #193: Henties Bay\n",
      "City #194: Curuçá\n",
      "City #195: Raja\n",
      "City #196: Salihorsk\n",
      "City #197: Berlevåg\n",
      "City #198: Cherskiy\n",
      "City #199: Lamu\n",
      "City #200: Okhotsk\n",
      "City #201: Marabu\n",
      "City #202: Laguna\n",
      "City #203: Wad Rāwah\n",
      "City #204: Port Alfred\n",
      "City #205: Nampula\n",
      "City #206: Klaksvík\n",
      "City #207: Inhambane\n",
      "City #208: Vikhorevka\n",
      "City #209: Margate\n",
      "City #210: Villaviciosa\n",
      "City #211: Hay River\n",
      "City #212: Shenjiamen\n",
      "City #213: Huarmey\n",
      "City #214: Lavrentiya\n",
      "City #215: Kavieng\n",
      "City #216: Kahului\n",
      "City #217: Tromsø\n",
      "City #218: Palmer\n",
      "City #219: Bonthe\n",
      "City #220: Östersund\n",
      "City #221: Pacific Grove\n",
      "City #222: Agadir\n",
      "City #223: Nakama\n",
      "City #224: Tellin\n",
      "City #225: Albanel\n",
      "City #226: Cabo San Lucas\n",
      "City #227: Poplar Bluff\n",
      "City #228: Litovko\n",
      "City #229: Nālūt\n",
      "City #230: Husavik\n",
      "City #231: Tongzi\n",
      "City #232: Dudinka\n",
      "City #233: Hualmay\n",
      "City #234: Kudahuvadhoo\n",
      "#235: talesh not found.\n",
      "\n",
      "#236: attawapiskat not found.\n",
      "\n",
      "City #237: Parker\n",
      "#238: dibaya not found.\n",
      "\n",
      "City #239: Tadine\n",
      "City #240: Saint-Pierre\n",
      "#241: nizhneyansk not found.\n",
      "\n",
      "City #242: Grand-Santi\n",
      "City #243: Colquechaca\n",
      "City #244: Marawi\n",
      "City #245: Yumen\n",
      "City #246: Ribeira Grande\n",
      "City #247: Ritchie\n",
      "City #248: Aswān\n",
      "City #249: Korla\n",
      "City #250: Chapais\n",
      "City #251: Doha\n",
      "City #252: Richards Bay\n",
      "City #253: Pokaran\n",
      "City #254: Barreiras\n",
      "City #255: Constitución\n",
      "City #256: Nacala\n",
      "City #257: Vila Velha\n",
      "City #258: Galesong\n",
      "City #259: Ndélé\n",
      "City #260: Fomboni\n",
      "City #261: Kaitangata\n",
      "City #262: Prince Rupert\n",
      "City #263: Daru\n",
      "City #264: Cuiluan\n",
      "City #265: Russell\n",
      "City #266: Muros\n",
      "City #267: Havre-St-Pierre\n",
      "City #268: Lagoa\n",
      "City #269: Kodinsk\n",
      "#270: kamenskoye not found.\n",
      "\n",
      "City #271: Manokwari\n",
      "City #272: Minna\n",
      "City #273: Acajutla\n",
      "City #274: Necochea\n",
      "City #275: Bandarbeyla\n",
      "City #276: Matara\n",
      "City #277: Pitimbu\n",
      "City #278: Katy\n",
      "City #279: High Prairie\n",
      "City #280: Flin Flon\n",
      "City #281: Waipawa\n",
      "City #282: Heishan\n",
      "City #283: San Fernando\n",
      "City #284: Sabang\n",
      "City #285: Jitra\n",
      "City #286: Verāval\n",
      "City #287: Udachny\n",
      "City #288: Lázaro Cárdenas\n",
      "City #289: Cervo\n",
      "City #290: Acapulco de Juárez\n",
      "City #291: Bandrele\n",
      "City #292: Saint-Louis\n",
      "City #293: Taltal\n",
      "City #294: İdil\n",
      "City #295: Opuwo\n",
      "City #296: Mahibadhoo\n",
      "City #297: Balyqshy\n",
      "City #298: Provideniya\n",
      "City #299: Lucapa\n",
      "City #300: São Filipe\n",
      "City #301: Ciucurova\n",
      "City #302: El Porvenir\n",
      "#303: mrirt not found.\n",
      "\n",
      "City #304: Talnakh\n",
      "City #305: Grand Gaube\n",
      "City #306: Sulangan\n",
      "City #307: Ola\n",
      "City #308: Pevek\n",
      "City #309: Rio Grande\n",
      "City #310: Rodolfo Sánchez Taboada\n",
      "City #311: Zhuhai\n",
      "City #312: Alofi\n",
      "City #313: Whyalla\n",
      "City #314: Kolokani\n",
      "City #315: Presidencia Roque Sáenz Peña\n",
      "City #316: Plouzané\n",
      "City #317: Canmore\n",
      "City #318: Dzaoudzi\n",
      "City #319: Örnsköldsvik\n",
      "City #320: Anadyr\n",
      "City #321: Aykhal\n",
      "City #322: Mnogovershinnyy\n",
      "City #323: Dafeng\n",
      "City #324: Dongfeng\n",
      "City #325: Marzuq\n",
      "City #326: Wawa\n",
      "City #327: Belfast\n",
      "City #328: Socorro\n",
      "City #329: Lüderitz\n",
      "City #330: Yulara\n",
      "City #331: Katsuura\n",
      "City #332: Jiaozuo\n",
      "City #333: Vikulovo\n",
      "City #334: Esperance\n",
      "City #335: Pangnirtung\n",
      "City #336: Portland\n",
      "City #337: Nikol'sk\n",
      "#338: labutta not found.\n",
      "\n",
      "City #339: Solnechnyy\n",
      "City #340: Hamilton\n",
      "City #341: Shwebo\n",
      "City #342: Saskylakh\n",
      "City #343: Tezu\n",
      "City #344: Podgornoye\n",
      "City #345: Senanga\n",
      "City #346: Novokuznetsk\n",
      "City #347: Leduc\n",
      "City #348: Ostrovnoy\n",
      "City #349: Tabou\n",
      "#350: rungata not found.\n",
      "\n",
      "City #351: Bilibino\n",
      "City #352: ‘Āhuimanu\n",
      "City #353: Saint-Ambroise\n",
      "City #354: Līsakovsk\n",
      "City #355: Guadalajara\n",
      "City #356: Dakar\n",
      "City #357: Moranbah\n",
      "City #358: Rocha\n",
      "City #359: Salinas\n",
      "City #360: Vardø\n",
      "City #361: Ust'-Ilimsk\n",
      "City #362: Tooele\n",
      "City #363: Itaituba\n",
      "City #364: Qinnan\n",
      "City #365: Kainantu\n",
      "City #366: Iqaluit\n",
      "City #367: Tarm\n",
      "City #368: Puerto del Rosario\n",
      "City #369: Madawaska\n",
      "#370: grand river south east not found.\n",
      "\n",
      "City #371: Ca Mau\n",
      "City #372: Camapuã\n",
      "City #373: Menongue\n",
      "City #374: Kamenka\n",
      "City #375: Kaili\n",
      "City #376: Dingle\n",
      "City #377: Gorontalo\n",
      "City #378: Mogadishu\n",
      "City #379: College\n",
      "#380: gazion not found.\n",
      "\n",
      "City #381: Upington\n",
      "City #382: Biak\n",
      "City #383: Luwuk\n",
      "City #384: Pisco\n",
      "City #385: Naduvattam\n",
      "City #386: Vieux-Habitants\n",
      "City #387: Madingou\n",
      "City #388: Dryden\n",
      "City #389: Souillac\n",
      "#390: cumaribo not found.\n",
      "\n",
      "City #391: Neyvo-Shaytanskiy\n",
      "City #392: Velim\n",
      "City #393: Baruun-Urt\n",
      "City #394: Marsá Maţrūḩ\n",
      "City #395: Vidalia\n",
      "City #396: Tual\n",
      "City #397: Touros\n",
      "City #398: Aljezur\n",
      "City #399: Cairns\n",
      "City #400: Dumai\n",
      "City #401: Conceição do Araguaia\n",
      "City #402: Atar\n",
      "City #403: Canandaigua\n",
      "City #404: Golden\n",
      "City #405: Gaoua\n",
      "City #406: Salalah\n",
      "City #407: Ukiah\n",
      "City #408: Tomatlán\n",
      "City #409: Bailén\n",
      "City #410: Kailua\n",
      "City #411: Umm Kaddadah\n",
      "City #412: Nemuro\n",
      "City #413: Santa Vitória\n",
      "City #414: Odienné\n",
      "City #415: Grants\n",
      "City #416: Zhigansk\n",
      "City #417: Tura\n",
      "City #418: Bilma\n",
      "City #419: Fakel\n",
      "City #420: Tabat\n",
      "City #421: Padilla\n",
      "City #422: Luanda\n",
      "City #423: Tres Arroyos\n",
      "#424: ust-kamchatsk not found.\n",
      "\n",
      "City #425: Ogulin\n",
      "City #426: Hamina\n",
      "City #427: Canatlán\n",
      "City #428: North Bend\n",
      "City #429: Sitka\n",
      "City #430: São João da Barra\n",
      "#431: mutsamudu not found.\n",
      "\n",
      "City #432: Prainha\n",
      "City #433: Kambove\n",
      "City #434: Nísia Floresta\n",
      "City #435: Thinadhoo\n",
      "City #436: Luena\n",
      "#437: sentyabrskiy not found.\n",
      "\n",
      "City #438: Talcahuano\n",
      "City #439: Puerto Madryn\n",
      "City #440: Zhezkazgan\n",
      "City #441: Starogard Gdański\n",
      "City #442: Ivaiporã\n",
      "City #443: Borgarnes\n",
      "City #444: Mirny\n",
      "City #445: Caconda\n",
      "City #446: Toppenish\n",
      "City #447: São Miguel do Araguaia\n",
      "City #448: Warrnambool\n",
      "City #449: Ankang\n",
      "City #450: Aksu\n",
      "City #451: Jönköping\n",
      "#452: toliary not found.\n",
      "\n",
      "City #453: Puerto Maldonado\n",
      "City #454: Kruisfontein\n",
      "#455: rakhya not found.\n",
      "\n",
      "City #456: Leningradskiy\n",
      "City #457: Hirara\n",
      "#458: haibowan not found.\n",
      "\n",
      "City #459: Eureka\n",
      "City #460: Yanliang\n",
      "City #461: Kaihua\n",
      "#462: tuggurt not found.\n",
      "\n",
      "City #463: Hurricane\n",
      "City #464: Port Hedland\n",
      "City #465: Chambas\n",
      "City #466: Port Augusta\n",
      "City #467: Batagay\n",
      "City #468: Penzance\n",
      "City #469: Juba\n",
      "City #470: Sisimiut\n",
      "City #471: Tuy Hoa\n",
      "City #472: Camacha\n",
      "#473: umzimvubu not found.\n",
      "\n",
      "City #474: Saint-Raymond\n",
      "City #475: Safi\n",
      "City #476: Bonavista\n",
      "City #477: Port-Cartier\n",
      "#478: felidhoo not found.\n",
      "\n",
      "#479: longlac not found.\n",
      "\n",
      "City #480: Montepuez\n",
      "City #481: Tiznit Province\n",
      "City #482: Kaoma\n",
      "City #483: Abbeville\n",
      "City #484: High Level\n",
      "City #485: Tshela\n",
      "City #486: Mulchén\n",
      "City #487: Ust-Nera\n",
      "City #488: Nanortalik\n",
      "City #489: Bela\n",
      "City #490: Kamuli\n",
      "City #491: Avera\n",
      "City #492: Pyaozerskiy\n",
      "City #493: Khani\n",
      "City #494: Havelock\n",
      "#495: sogdiondon not found.\n",
      "\n",
      "City #496: Saint-Augustin\n",
      "City #497: Sobolevo\n",
      "City #498: Talas\n",
      "City #499: Nastola\n",
      "City #500: Linxia Chengguanzhen\n",
      "#501: parakoila not found.\n",
      "\n",
      "City #502: Bossangoa\n",
      "City #503: Kathu\n",
      "City #504: Sicamous\n",
      "City #505: Norman Wells\n",
      "City #506: Port Lincoln\n",
      "City #507: Krasnoborsk\n",
      "City #508: Luang Prabang\n",
      "City #509: Springbok\n",
      "City #510: Şabyā\n",
      "City #511: Isla Mujeres\n",
      "City #512: Strelka\n",
      "City #513: Jalu\n",
      "City #514: Kalmunai\n",
      "City #515: Diamantino\n",
      "City #516: Omboué\n",
      "City #517: Agüimes\n",
      "City #518: Kedrovyy\n",
      "City #519: Diu\n",
      "City #520: São Geraldo do Araguaia\n",
      "City #521: Banyo\n",
      "City #522: Les Cayes\n",
      "City #523: Carazinho\n",
      "#524: louisbourg not found.\n",
      "\n",
      "City #525: Maryborough\n",
      "City #526: Kununurra\n",
      "City #527: Soto la Marina\n",
      "City #528: Dhārchula\n",
      "City #529: San Cristobal\n",
      "City #530: Guerrero Negro\n",
      "City #531: Leshukonskoye\n",
      "City #532: Kaeo\n",
      "City #533: Champerico\n",
      "City #534: Kumul\n",
      "City #535: Dicabisagan\n",
      "City #536: Biggar\n",
      "City #537: Honiara\n",
      "City #538: Ilulissat\n",
      "City #539: Mandera\n",
      "City #540: Chirongui\n",
      "City #541: Jales\n",
      "City #542: Termoli\n",
      "City #543: Vuktyl\n",
      "City #544: Chiredzi\n",
      "City #545: Mayo\n",
      "City #546: Buraidah\n",
      "City #547: Saint Anthony\n",
      "City #548: Angoche\n",
      "City #549: Arrondissement de Bressuire\n",
      "#550: hunza not found.\n",
      "\n",
      "City #551: San Quintín\n",
      "City #552: Alice Springs\n",
      "City #553: Mahdalynivka\n",
      "City #554: Zeya\n",
      "City #555: Sapucaia\n",
      "City #556: Fairbanks\n",
      "City #557: Lal'sk\n",
      "City #558: Ţahţā\n",
      "City #559: Huatulco\n",
      "City #560: Bodaybo\n",
      "City #561: Port-Gentil\n",
      "#562: samusu not found.\n",
      "\n",
      "City #563: Camacupa\n",
      "City #564: Topeka\n",
      "City #565: Jinka\n",
      "City #566: Paracatu\n",
      "City #567: Itoman\n",
      "#568: warqla not found.\n",
      "\n",
      "City #569: Eirunepé\n",
      "City #570: Robertsport\n",
      "City #571: Coahuayana Viejo\n",
      "City #572: Suntar\n",
      "#573: sao bento do una not found.\n",
      "\n",
      "City #574: Kenai\n",
      "#575: samalaeulu not found.\n",
      "\n",
      "City #576: Vadsø\n",
      "#577: khormuj not found.\n",
      "\n",
      "City #578: Susanville\n"
     ]
    }
   ],
   "source": [
    "#base url\n",
    "url = \"http://api.openweathermap.org/data/2.5/weather?\"\n",
    "\n",
    "#query url\n",
    "query_url = f'{url}appid={weather_api_key}&q='\n",
    "\n",
    "\n",
    "city_names =[]\n",
    "lat=[]\n",
    "lng=[]\n",
    "max_temp=[]\n",
    "humidity=[]\n",
    "cloudiness=[]\n",
    "wind_speed=[]\n",
    "country=[]\n",
    "date=[]\n",
    "\n",
    "count = 1\n",
    "\n",
    "for city in cities:\n",
    "    try:\n",
    "        response = requests.get(query_url + city).json()\n",
    "\n",
    "        city_names.append(response['name'])\n",
    "        lat.append(response['coord']['lat'])\n",
    "        lng.append(response['coord']['lon'])\n",
    "        max_temp.append(response['main']['temp_max'])\n",
    "        humidity.append(response['main']['humidity'])\n",
    "        cloudiness.append(response['clouds']['all'])\n",
    "        wind_speed.append(response['wind']['speed'])\n",
    "        country.append(response['sys']['country'])\n",
    "        date.append(response['dt'])\n",
    "        \n",
    "        print(f\"City #{count}: {response['name']}\")\n",
    "        count = count + 1\n",
    "\n",
    "    except:\n",
    "        print(f'#{count}: {city} not found.\\n')\n",
    "        count = count + 1\n",
    "\n"
   ]
  },
  {
   "cell_type": "markdown",
   "metadata": {},
   "source": [
    "### Convert Raw Data to DataFrame\n",
    "* Export the city data into a .csv.\n",
    "* Display the DataFrame"
   ]
  },
  {
   "cell_type": "code",
   "execution_count": 4,
   "metadata": {},
   "outputs": [
    {
     "data": {
      "text/html": [
       "<div>\n",
       "<style scoped>\n",
       "    .dataframe tbody tr th:only-of-type {\n",
       "        vertical-align: middle;\n",
       "    }\n",
       "\n",
       "    .dataframe tbody tr th {\n",
       "        vertical-align: top;\n",
       "    }\n",
       "\n",
       "    .dataframe thead th {\n",
       "        text-align: right;\n",
       "    }\n",
       "</style>\n",
       "<table border=\"1\" class=\"dataframe\">\n",
       "  <thead>\n",
       "    <tr style=\"text-align: right;\">\n",
       "      <th></th>\n",
       "      <th>City</th>\n",
       "      <th>Lat</th>\n",
       "      <th>Lng</th>\n",
       "      <th>Max Temp</th>\n",
       "      <th>Humidity</th>\n",
       "      <th>Cloudiness</th>\n",
       "      <th>Wind Speed</th>\n",
       "      <th>Country</th>\n",
       "      <th>Date</th>\n",
       "    </tr>\n",
       "  </thead>\n",
       "  <tbody>\n",
       "    <tr>\n",
       "      <th>0</th>\n",
       "      <td>Vaini</td>\n",
       "      <td>-21.2000</td>\n",
       "      <td>-175.2000</td>\n",
       "      <td>297.65</td>\n",
       "      <td>84</td>\n",
       "      <td>2</td>\n",
       "      <td>6.22</td>\n",
       "      <td>TO</td>\n",
       "      <td>1631862105</td>\n",
       "    </tr>\n",
       "    <tr>\n",
       "      <th>1</th>\n",
       "      <td>Los Llanos de Aridane</td>\n",
       "      <td>28.6585</td>\n",
       "      <td>-17.9182</td>\n",
       "      <td>294.01</td>\n",
       "      <td>73</td>\n",
       "      <td>75</td>\n",
       "      <td>4.63</td>\n",
       "      <td>ES</td>\n",
       "      <td>1631862106</td>\n",
       "    </tr>\n",
       "    <tr>\n",
       "      <th>2</th>\n",
       "      <td>Geraldton</td>\n",
       "      <td>-28.7667</td>\n",
       "      <td>114.6000</td>\n",
       "      <td>292.38</td>\n",
       "      <td>39</td>\n",
       "      <td>2</td>\n",
       "      <td>6.17</td>\n",
       "      <td>AU</td>\n",
       "      <td>1631862106</td>\n",
       "    </tr>\n",
       "    <tr>\n",
       "      <th>3</th>\n",
       "      <td>Westerland</td>\n",
       "      <td>54.9079</td>\n",
       "      <td>8.3033</td>\n",
       "      <td>287.16</td>\n",
       "      <td>77</td>\n",
       "      <td>90</td>\n",
       "      <td>7.20</td>\n",
       "      <td>DE</td>\n",
       "      <td>1631862107</td>\n",
       "    </tr>\n",
       "    <tr>\n",
       "      <th>4</th>\n",
       "      <td>Genhe</td>\n",
       "      <td>50.7833</td>\n",
       "      <td>121.5167</td>\n",
       "      <td>287.45</td>\n",
       "      <td>39</td>\n",
       "      <td>16</td>\n",
       "      <td>5.12</td>\n",
       "      <td>CN</td>\n",
       "      <td>1631862107</td>\n",
       "    </tr>\n",
       "  </tbody>\n",
       "</table>\n",
       "</div>"
      ],
      "text/plain": [
       "                    City      Lat       Lng  Max Temp  Humidity  Cloudiness  \\\n",
       "0                  Vaini -21.2000 -175.2000    297.65        84           2   \n",
       "1  Los Llanos de Aridane  28.6585  -17.9182    294.01        73          75   \n",
       "2              Geraldton -28.7667  114.6000    292.38        39           2   \n",
       "3             Westerland  54.9079    8.3033    287.16        77          90   \n",
       "4                  Genhe  50.7833  121.5167    287.45        39          16   \n",
       "\n",
       "   Wind Speed Country        Date  \n",
       "0        6.22      TO  1631862105  \n",
       "1        4.63      ES  1631862106  \n",
       "2        6.17      AU  1631862106  \n",
       "3        7.20      DE  1631862107  \n",
       "4        5.12      CN  1631862107  "
      ]
     },
     "execution_count": 4,
     "metadata": {},
     "output_type": "execute_result"
    }
   ],
   "source": [
    "weather_dict = {\n",
    "    'City': city_names,\n",
    "    'Lat': lat,\n",
    "    'Lng': lng,\n",
    "    'Max Temp': max_temp,\n",
    "    'Humidity': humidity,\n",
    "    'Cloudiness': cloudiness,\n",
    "    'Wind Speed': wind_speed,\n",
    "    'Country': country,\n",
    "    'Date': date\n",
    "}\n",
    "\n",
    "weather_df = pd.DataFrame(weather_dict)\n",
    "weather_df.head()\n",
    "\n"
   ]
  },
  {
   "cell_type": "code",
   "execution_count": 5,
   "metadata": {},
   "outputs": [
    {
     "data": {
      "text/html": [
       "<div>\n",
       "<style scoped>\n",
       "    .dataframe tbody tr th:only-of-type {\n",
       "        vertical-align: middle;\n",
       "    }\n",
       "\n",
       "    .dataframe tbody tr th {\n",
       "        vertical-align: top;\n",
       "    }\n",
       "\n",
       "    .dataframe thead th {\n",
       "        text-align: right;\n",
       "    }\n",
       "</style>\n",
       "<table border=\"1\" class=\"dataframe\">\n",
       "  <thead>\n",
       "    <tr style=\"text-align: right;\">\n",
       "      <th></th>\n",
       "      <th>Lat</th>\n",
       "      <th>Lng</th>\n",
       "      <th>Max Temp</th>\n",
       "      <th>Humidity</th>\n",
       "      <th>Cloudiness</th>\n",
       "      <th>Wind Speed</th>\n",
       "      <th>Date</th>\n",
       "    </tr>\n",
       "  </thead>\n",
       "  <tbody>\n",
       "    <tr>\n",
       "      <th>count</th>\n",
       "      <td>530.000000</td>\n",
       "      <td>530.000000</td>\n",
       "      <td>530.000000</td>\n",
       "      <td>530.000000</td>\n",
       "      <td>530.000000</td>\n",
       "      <td>530.000000</td>\n",
       "      <td>5.300000e+02</td>\n",
       "    </tr>\n",
       "    <tr>\n",
       "      <th>min</th>\n",
       "      <td>-54.800000</td>\n",
       "      <td>-179.166700</td>\n",
       "      <td>261.990000</td>\n",
       "      <td>12.000000</td>\n",
       "      <td>0.000000</td>\n",
       "      <td>0.000000</td>\n",
       "      <td>1.631861e+09</td>\n",
       "    </tr>\n",
       "    <tr>\n",
       "      <th>max</th>\n",
       "      <td>78.218600</td>\n",
       "      <td>178.416700</td>\n",
       "      <td>311.140000</td>\n",
       "      <td>100.000000</td>\n",
       "      <td>100.000000</td>\n",
       "      <td>14.580000</td>\n",
       "      <td>1.631862e+09</td>\n",
       "    </tr>\n",
       "    <tr>\n",
       "      <th>mean</th>\n",
       "      <td>19.899752</td>\n",
       "      <td>12.982445</td>\n",
       "      <td>291.932849</td>\n",
       "      <td>70.824528</td>\n",
       "      <td>57.709434</td>\n",
       "      <td>3.526396</td>\n",
       "      <td>1.631862e+09</td>\n",
       "    </tr>\n",
       "    <tr>\n",
       "      <th>std</th>\n",
       "      <td>33.051426</td>\n",
       "      <td>89.368163</td>\n",
       "      <td>9.079740</td>\n",
       "      <td>21.180951</td>\n",
       "      <td>40.604116</td>\n",
       "      <td>2.362141</td>\n",
       "      <td>9.809056e+01</td>\n",
       "    </tr>\n",
       "    <tr>\n",
       "      <th>firstq</th>\n",
       "      <td>-6.828375</td>\n",
       "      <td>-64.678525</td>\n",
       "      <td>285.000000</td>\n",
       "      <td>62.000000</td>\n",
       "      <td>14.250000</td>\n",
       "      <td>1.715000</td>\n",
       "      <td>1.631862e+09</td>\n",
       "    </tr>\n",
       "    <tr>\n",
       "      <th>median</th>\n",
       "      <td>21.759950</td>\n",
       "      <td>17.915350</td>\n",
       "      <td>294.270000</td>\n",
       "      <td>75.000000</td>\n",
       "      <td>75.000000</td>\n",
       "      <td>3.035000</td>\n",
       "      <td>1.631862e+09</td>\n",
       "    </tr>\n",
       "    <tr>\n",
       "      <th>secondq</th>\n",
       "      <td>49.157325</td>\n",
       "      <td>94.412475</td>\n",
       "      <td>298.950000</td>\n",
       "      <td>86.000000</td>\n",
       "      <td>100.000000</td>\n",
       "      <td>4.950000</td>\n",
       "      <td>1.631862e+09</td>\n",
       "    </tr>\n",
       "  </tbody>\n",
       "</table>\n",
       "</div>"
      ],
      "text/plain": [
       "                Lat         Lng    Max Temp    Humidity  Cloudiness  \\\n",
       "count    530.000000  530.000000  530.000000  530.000000  530.000000   \n",
       "min      -54.800000 -179.166700  261.990000   12.000000    0.000000   \n",
       "max       78.218600  178.416700  311.140000  100.000000  100.000000   \n",
       "mean      19.899752   12.982445  291.932849   70.824528   57.709434   \n",
       "std       33.051426   89.368163    9.079740   21.180951   40.604116   \n",
       "firstq    -6.828375  -64.678525  285.000000   62.000000   14.250000   \n",
       "median    21.759950   17.915350  294.270000   75.000000   75.000000   \n",
       "secondq   49.157325   94.412475  298.950000   86.000000  100.000000   \n",
       "\n",
       "         Wind Speed          Date  \n",
       "count    530.000000  5.300000e+02  \n",
       "min        0.000000  1.631861e+09  \n",
       "max       14.580000  1.631862e+09  \n",
       "mean       3.526396  1.631862e+09  \n",
       "std        2.362141  9.809056e+01  \n",
       "firstq     1.715000  1.631862e+09  \n",
       "median     3.035000  1.631862e+09  \n",
       "secondq    4.950000  1.631862e+09  "
      ]
     },
     "execution_count": 5,
     "metadata": {},
     "output_type": "execute_result"
    }
   ],
   "source": [
    "def firstq(ser):\n",
    "    return ser.quantile(.25)\n",
    "\n",
    "def secondq(ser):\n",
    "    return ser.quantile(.75)\n",
    "\n",
    "summary_df = weather_df.agg(['count','mean','std','min',firstq, 'median', secondq, 'max'])[['Lat', 'Lng','Max Temp', 'Humidity', 'Cloudiness', 'Wind Speed', 'Date']]\n",
    "\n",
    "# summary_df = summary_df.rename(index={\"firstq\": \"25%\", \"median\": \"50%\", \"secondq\": \"75%\"})\n",
    "\n",
    "summary_df\n"
   ]
  },
  {
   "cell_type": "code",
   "execution_count": 6,
   "metadata": {},
   "outputs": [],
   "source": [
    "weather_df.to_csv('weatherdata.csv')"
   ]
  },
  {
   "cell_type": "markdown",
   "metadata": {},
   "source": [
    "## Inspect the data and remove the cities where the humidity > 100%.\n",
    "----\n",
    "Skip this step if there are no cities that have humidity > 100%. "
   ]
  },
  {
   "cell_type": "code",
   "execution_count": 7,
   "metadata": {},
   "outputs": [
    {
     "data": {
      "text/plain": [
       "530"
      ]
     },
     "execution_count": 7,
     "metadata": {},
     "output_type": "execute_result"
    }
   ],
   "source": [
    "len(weather_df)"
   ]
  },
  {
   "cell_type": "code",
   "execution_count": 8,
   "metadata": {},
   "outputs": [
    {
     "data": {
      "text/plain": [
       "Int64Index([], dtype='int64')"
      ]
     },
     "execution_count": 8,
     "metadata": {},
     "output_type": "execute_result"
    }
   ],
   "source": [
    "#  Get the indices of cities that have humidity over 100%.\n",
    "index_series = weather_df[weather_df['Humidity'] > 100].index\n",
    "index_series"
   ]
  },
  {
   "cell_type": "code",
   "execution_count": 9,
   "metadata": {},
   "outputs": [
    {
     "data": {
      "text/plain": [
       "530"
      ]
     },
     "execution_count": 9,
     "metadata": {},
     "output_type": "execute_result"
    }
   ],
   "source": [
    "# Make a new DataFrame equal to the city data to drop all humidity outliers by index.\n",
    "# Passing \"inplace=False\" will make a copy of the city_data DataFrame, which we call \"clean_city_data\".\n",
    "weather_df = weather_df.drop(index_series)\n",
    "len(weather_df)"
   ]
  },
  {
   "cell_type": "code",
   "execution_count": null,
   "metadata": {},
   "outputs": [],
   "source": [
    "\n"
   ]
  },
  {
   "cell_type": "markdown",
   "metadata": {},
   "source": [
    "## Plotting the Data\n",
    "* Use proper labeling of the plots using plot titles (including date of analysis) and axes labels.\n",
    "* Save the plotted figures as .pngs."
   ]
  },
  {
   "cell_type": "markdown",
   "metadata": {},
   "source": [
    "## Latitude vs. Temperature Plot"
   ]
  },
  {
   "cell_type": "code",
   "execution_count": 25,
   "metadata": {
    "scrolled": true
   },
   "outputs": [
    {
     "data": {
      "image/png": "[encoded data removed]",
      "text/plain": [
       "<Figure size 432x288 with 1 Axes>"
      ]
     },
     "metadata": {
      "needs_background": "light"
     },
     "output_type": "display_data"
    }
   ],
   "source": [
    "x = weather_df['Lat']\n",
    "\n",
    "y = weather_df['Max Temp']\n",
    "\n",
    "date = weather_df['Date'][0]\n",
    "\n",
    "\n",
    "plt.scatter(x,y)\n",
    "\n",
    "# format\n",
    "plt.grid()\n",
    "plt.xlabel(\"Latitude\")\n",
    "plt.ylabel(\"Max Temperature (F)\")\n",
    "plt.title(f\"City Latitude Vs. Max Temperature for {date}\")\n",
    "\n",
    "plt.savefig('Latitude_vs_Temperature_Plot.png')\n",
    "plt.show()\n"
   ]
  },
  {
   "cell_type": "markdown",
   "metadata": {},
   "source": [
    "## Latitude vs. Humidity Plot"
   ]
  },
  {
   "cell_type": "code",
   "execution_count": 24,
   "metadata": {},
   "outputs": [
    {
     "data": {
      "image/png": "[encoded data removed]",
      "text/plain": [
       "<Figure size 432x288 with 1 Axes>"
      ]
     },
     "metadata": {
      "needs_background": "light"
     },
     "output_type": "display_data"
    }
   ],
   "source": [
    "x = weather_df['Lat']\n",
    "\n",
    "y = weather_df['Humidity']\n",
    "\n",
    "date = weather_df['Date'][0]\n",
    "\n",
    "\n",
    "plt.scatter(x,y)\n",
    "\n",
    "# format\n",
    "plt.grid()\n",
    "plt.xlabel(\"Latitude\")\n",
    "plt.ylabel(\"Humidity %\")\n",
    "plt.title(f\"City Latitude Vs. Humidity for {date}\")\n",
    "\n",
    "plt.savefig('Latitude_vs_Humidity_Plot.png')\n",
    "plt.show()"
   ]
  },
  {
   "cell_type": "markdown",
   "metadata": {},
   "source": [
    "## Latitude vs. Cloudiness Plot"
   ]
  },
  {
   "cell_type": "code",
   "execution_count": 27,
   "metadata": {},
   "outputs": [
    {
     "data": {
      "image/png": "[encoded data removed]",
      "text/plain": [
       "<Figure size 432x288 with 1 Axes>"
      ]
     },
     "metadata": {
      "needs_background": "light"
     },
     "output_type": "display_data"
    }
   ],
   "source": [
    "x = weather_df['Lat']\n",
    "\n",
    "y = weather_df['Cloudiness']\n",
    "\n",
    "date = weather_df['Date'][0]\n",
    "\n",
    "\n",
    "plt.scatter(x,y)\n",
    "\n",
    "# format\n",
    "plt.grid()\n",
    "plt.xlabel(\"Latitude\")\n",
    "plt.ylabel(\"Cloudiness\")\n",
    "plt.title(f\"City Latitude Vs. Cloudiness for {date}\")\n",
    "\n",
    "plt.savefig('Latitude_vs_Cloudiness_Plot.png')\n",
    "plt.show()"
   ]
  },
  {
   "cell_type": "markdown",
   "metadata": {},
   "source": [
    "## Latitude vs. Wind Speed Plot"
   ]
  },
  {
   "cell_type": "code",
   "execution_count": 28,
   "metadata": {},
   "outputs": [
    {
     "data": {
      "image/png": "[encoded data removed]",
      "text/plain": [
       "<Figure size 432x288 with 1 Axes>"
      ]
     },
     "metadata": {
      "needs_background": "light"
     },
     "output_type": "display_data"
    }
   ],
   "source": [
    "x = weather_df['Lat']\n",
    "\n",
    "y = weather_df['Wind Speed']\n",
    "\n",
    "date = weather_df['Date'][0]\n",
    "\n",
    "\n",
    "plt.scatter(x,y)\n",
    "\n",
    "# format\n",
    "plt.grid()\n",
    "plt.xlabel(\"Latitude\")\n",
    "plt.ylabel(\"Wind Speed\")\n",
    "plt.title(f\"City Latitude Vs. Wind Speed for {date}\")\n",
    "\n",
    "plt.savefig('Latitude_vs_WindSpeed_Plot.png')\n",
    "plt.show()"
   ]
  },
  {
   "cell_type": "markdown",
   "metadata": {},
   "source": [
    "## Linear Regression"
   ]
  },
  {
   "cell_type": "code",
   "execution_count": 14,
   "metadata": {},
   "outputs": [],
   "source": [
    "# northern hemisphere latitudes are positive\n",
    "north_df = weather_df[weather_df['Lat'] >= 0]\n",
    "\n",
    "south_df = weather_df[weather_df['Lat'] < 0]\n"
   ]
  },
  {
   "cell_type": "markdown",
   "metadata": {},
   "source": [
    "####  Northern Hemisphere - Max Temp vs. Latitude Linear Regression"
   ]
  },
  {
   "cell_type": "code",
   "execution_count": 33,
   "metadata": {},
   "outputs": [
    {
     "name": "stdout",
     "output_type": "stream",
     "text": [
      "The r-value is: -0.852028424094066\n"
     ]
    },
    {
     "data": {
      "image/png": "[encoded data removed]",
      "text/plain": [
       "<Figure size 432x288 with 1 Axes>"
      ]
     },
     "metadata": {
      "needs_background": "light"
     },
     "output_type": "display_data"
    }
   ],
   "source": [
    "x = north_df['Lat']\n",
    "y = north_df['Max Temp']\n",
    "\n",
    "\n",
    "plt.scatter(x, y)\n",
    "\n",
    "slope, intercept, r, p, se = linregress(x, y)\n",
    "\n",
    "y_linear = slope*x +intercept\n",
    "plt.plot(x,y_linear, color='red')\n",
    "\n",
    "print(f'The r-value is: {r}')\n",
    "\n",
    "# format\n",
    "plt.grid()\n",
    "plt.xlabel(\"Latitude\")\n",
    "plt.ylabel(\"Max Temperature (F)\")\n",
    "plt.title(f\" Northern Hemisphere - Max Temp vs. Latitude\")\n",
    "plt.annotate(f'y={slope.round(2)}x + {intercept.round(2)}',(50,300),fontsize=12,color=\"red\")\n",
    "\n",
    "plt.savefig('NorthHemisphere_MaxTemp_vs_Latitude_LinRegression.png')\n",
    "plt.show()"
   ]
  },
  {
   "cell_type": "markdown",
   "metadata": {},
   "source": [
    "####  Southern Hemisphere - Max Temp vs. Latitude Linear Regression"
   ]
  },
  {
   "cell_type": "code",
   "execution_count": 35,
   "metadata": {},
   "outputs": [
    {
     "name": "stdout",
     "output_type": "stream",
     "text": [
      "The r-value is: 0.7681662287359017\n"
     ]
    },
    {
     "data": {
      "image/png": "[encoded data removed]",
      "text/plain": [
       "<Figure size 432x288 with 1 Axes>"
      ]
     },
     "metadata": {
      "needs_background": "light"
     },
     "output_type": "display_data"
    }
   ],
   "source": [
    "x = south_df['Lat']\n",
    "y = south_df['Max Temp']\n",
    "\n",
    "\n",
    "plt.scatter(x, y)\n",
    "\n",
    "slope, intercept, r, p, se = linregress(x, y)\n",
    "\n",
    "y_linear = slope*x +intercept\n",
    "plt.plot(x,y_linear, color='red')\n",
    "\n",
    "print(f'The r-value is: {r}')\n",
    "\n",
    "# format\n",
    "plt.grid()\n",
    "plt.xlabel(\"Latitude\")\n",
    "plt.ylabel(\"Max Temperature (F)\")\n",
    "plt.title(f\" Southern Hemisphere - Max Temp vs. Latitude\")\n",
    "plt.annotate(f'y={slope.round(2)}x + {intercept.round(2)}',(-30,280),fontsize=12,color=\"red\")\n",
    "\n",
    "plt.savefig('SouthHemisphere_MaxTemp_vs_Latitude_LinRegression.png')\n",
    "plt.show()"
   ]
  },
  {
   "cell_type": "markdown",
   "metadata": {},
   "source": [
    "####  Northern Hemisphere - Humidity (%) vs. Latitude Linear Regression"
   ]
  },
  {
   "cell_type": "code",
   "execution_count": 36,
   "metadata": {},
   "outputs": [
    {
     "name": "stdout",
     "output_type": "stream",
     "text": [
      "The r-value is: 0.036390360787276387\n"
     ]
    },
    {
     "data": {
      "image/png": "[encoded data removed]",
      "text/plain": [
       "<Figure size 432x288 with 1 Axes>"
      ]
     },
     "metadata": {
      "needs_background": "light"
     },
     "output_type": "display_data"
    }
   ],
   "source": [
    "x = north_df['Lat']\n",
    "y = north_df['Humidity']\n",
    "\n",
    "\n",
    "plt.scatter(x, y)\n",
    "\n",
    "slope, intercept, r, p, se = linregress(x, y)\n",
    "\n",
    "y_linear = slope*x +intercept\n",
    "plt.plot(x,y_linear, color='red')\n",
    "\n",
    "print(f'The r-value is: {r}')\n",
    "\n",
    "# format\n",
    "plt.grid()\n",
    "plt.xlabel(\"Humidity\")\n",
    "plt.ylabel(\"Humidity (%)\")\n",
    "plt.title(f\"Northern Hemisphere - Humidity (%) vs. Latitude \")\n",
    "plt.annotate(f'y={slope.round(2)}x + {intercept.round(2)}',(50,40),fontsize=12,color=\"red\")\n",
    "\n",
    "plt.savefig('NorthHemisphere_Humidity_vs_Latitude_LinRegression.png')\n",
    "plt.show()"
   ]
  },
  {
   "cell_type": "markdown",
   "metadata": {},
   "source": [
    "####  Southern Hemisphere - Humidity (%) vs. Latitude Linear Regression"
   ]
  },
  {
   "cell_type": "code",
   "execution_count": 37,
   "metadata": {},
   "outputs": [
    {
     "name": "stdout",
     "output_type": "stream",
     "text": [
      "The r-value is: 0.005542771855770968\n"
     ]
    },
    {
     "data": {
      "image/png": "[encoded data removed]",
      "text/plain": [
       "<Figure size 432x288 with 1 Axes>"
      ]
     },
     "metadata": {
      "needs_background": "light"
     },
     "output_type": "display_data"
    }
   ],
   "source": [
    "x = south_df['Lat']\n",
    "y = south_df['Humidity']\n",
    "\n",
    "\n",
    "plt.scatter(x, y)\n",
    "\n",
    "slope, intercept, r, p, se = linregress(x, y)\n",
    "\n",
    "y_linear = slope*x +intercept\n",
    "plt.plot(x,y_linear, color='red')\n",
    "\n",
    "print(f'The r-value is: {r}')\n",
    "\n",
    "# format\n",
    "plt.grid()\n",
    "plt.xlabel(\"Latitude\")\n",
    "plt.ylabel(\"Humidity (%)\")\n",
    "plt.title(f\"Southern Hemisphere - Humidity (%) vs. Latitude \")\n",
    "plt.annotate(f'y={slope.round(2)}x + {intercept.round(2)}',(-30,40),fontsize=12,color=\"red\")\n",
    "\n",
    "plt.savefig('SouthHemisphere_Humidity_vs_Latitude_LinRegression.png')\n",
    "plt.show()"
   ]
  },
  {
   "cell_type": "markdown",
   "metadata": {},
   "source": [
    "####  Northern Hemisphere - Cloudiness (%) vs. Latitude Linear Regression"
   ]
  },
  {
   "cell_type": "code",
   "execution_count": 38,
   "metadata": {},
   "outputs": [
    {
     "name": "stdout",
     "output_type": "stream",
     "text": [
      "The r-value is: 0.19916213456400347\n"
     ]
    },
    {
     "data": {
      "image/png": "[encoded data removed]",
      "text/plain": [
       "<Figure size 432x288 with 1 Axes>"
      ]
     },
     "metadata": {
      "needs_background": "light"
     },
     "output_type": "display_data"
    }
   ],
   "source": [
    "x = north_df['Lat']\n",
    "y = north_df['Cloudiness']\n",
    "\n",
    "\n",
    "plt.scatter(x, y)\n",
    "\n",
    "slope, intercept, r, p, se = linregress(x, y)\n",
    "\n",
    "y_linear = slope*x +intercept\n",
    "plt.plot(x,y_linear, color='red')\n",
    "\n",
    "print(f'The r-value is: {r}')\n",
    "\n",
    "# format\n",
    "plt.grid()\n",
    "plt.xlabel(\"Latitude\")\n",
    "plt.ylabel(\"Cloudiness (%)\")\n",
    "plt.title(f\"Northern Hemisphere - Cloudiness (%) vs. Latitude \")\n",
    "plt.annotate(f'y={slope.round(2)}x + {intercept.round(2)}',(-30,40),fontsize=12,color=\"red\")\n",
    "\n",
    "plt.savefig('NorthHemisphere_Cloudiness_vs_Latitude_LinRegression.png')\n",
    "plt.show()"
   ]
  },
  {
   "cell_type": "markdown",
   "metadata": {},
   "source": [
    "####  Southern Hemisphere - Cloudiness (%) vs. Latitude Linear Regression"
   ]
  },
  {
   "cell_type": "code",
   "execution_count": 39,
   "metadata": {},
   "outputs": [
    {
     "name": "stdout",
     "output_type": "stream",
     "text": [
      "The r-value is: 0.10141427706085372\n"
     ]
    },
    {
     "data": {
      "image/png": "[encoded data removed]",
      "text/plain": [
       "<Figure size 432x288 with 1 Axes>"
      ]
     },
     "metadata": {
      "needs_background": "light"
     },
     "output_type": "display_data"
    }
   ],
   "source": [
    "x = south_df['Lat']\n",
    "y = south_df['Cloudiness']\n",
    "\n",
    "\n",
    "plt.scatter(x, y)\n",
    "\n",
    "slope, intercept, r, p, se = linregress(x, y)\n",
    "\n",
    "y_linear = slope*x +intercept\n",
    "plt.plot(x,y_linear, color='red')\n",
    "\n",
    "print(f'The r-value is: {r}')\n",
    "\n",
    "# format\n",
    "plt.grid()\n",
    "plt.xlabel(\"Latitude\")\n",
    "plt.ylabel(\"Cloudiness (%)\")\n",
    "plt.title(f\"Southern Hemisphere - Cloudiness (%) vs. Latitude \")\n",
    "plt.annotate(f'y={slope.round(2)}x + {intercept.round(2)}',(-30,40),fontsize=12,color=\"red\")\n",
    "\n",
    "plt.savefig('SouthHemisphere_Cloudiness_vs_Latitude_LinRegression.png')\n",
    "plt.show()"
   ]
  },
  {
   "cell_type": "markdown",
   "metadata": {},
   "source": [
    "####  Northern Hemisphere - Wind Speed (mph) vs. Latitude Linear Regression"
   ]
  },
  {
   "cell_type": "code",
   "execution_count": 40,
   "metadata": {},
   "outputs": [
    {
     "name": "stdout",
     "output_type": "stream",
     "text": [
      "The r-value is: 0.1225851298862804\n"
     ]
    },
    {
     "data": {
      "image/png": "[encoded data removed]",
      "text/plain": [
       "<Figure size 432x288 with 1 Axes>"
      ]
     },
     "metadata": {
      "needs_background": "light"
     },
     "output_type": "display_data"
    }
   ],
   "source": [
    "x = north_df['Lat']\n",
    "y = north_df['Wind Speed']\n",
    "\n",
    "\n",
    "plt.scatter(x, y)\n",
    "\n",
    "slope, intercept, r, p, se = linregress(x, y)\n",
    "\n",
    "y_linear = slope*x +intercept\n",
    "plt.plot(x,y_linear, color='red')\n",
    "\n",
    "print(f'The r-value is: {r}')\n",
    "\n",
    "# format\n",
    "plt.grid()\n",
    "plt.xlabel(\"Latitude\")\n",
    "plt.ylabel(\"Wind Speed (mph)\")\n",
    "plt.title(f\"Northern Hemisphere - Wind Speed (mph) vs. Latitude \")\n",
    "plt.annotate(f'y={slope.round(2)}x + {intercept.round(2)}',(10,8),fontsize=12,color=\"red\")\n",
    "\n",
    "plt.savefig('NorthHemisphere_WindSpeed_vs_Latitude_LinRegression.png')\n",
    "plt.show()"
   ]
  },
  {
   "cell_type": "markdown",
   "metadata": {},
   "source": [
    "####  Southern Hemisphere - Wind Speed (mph) vs. Latitude Linear Regression"
   ]
  },
  {
   "cell_type": "code",
   "execution_count": 41,
   "metadata": {},
   "outputs": [
    {
     "name": "stdout",
     "output_type": "stream",
     "text": [
      "The r-value is: -0.1652987045207554\n"
     ]
    },
    {
     "data": {
      "image/png": "[encoded data removed]",
      "text/plain": [
       "<Figure size 432x288 with 1 Axes>"
      ]
     },
     "metadata": {
      "needs_background": "light"
     },
     "output_type": "display_data"
    }
   ],
   "source": [
    "x = south_df['Lat']\n",
    "y = south_df['Wind Speed']\n",
    "\n",
    "\n",
    "plt.scatter(x, y)\n",
    "\n",
    "slope, intercept, r, p, se = linregress(x, y)\n",
    "\n",
    "y_linear = slope*x +intercept\n",
    "plt.plot(x,y_linear, color='red')\n",
    "\n",
    "print(f'The r-value is: {r}')\n",
    "\n",
    "# format\n",
    "plt.grid()\n",
    "plt.xlabel(\"Latitude\")\n",
    "plt.ylabel(\"Wind Speed (mph)\")\n",
    "plt.title(f\"Southern Hemisphere - Wind Speed (mph) vs. Latitude \")\n",
    "plt.annotate(f'y={slope.round(2)}x + {intercept.round(2)}',(10,8),fontsize=12,color=\"red\")\n",
    "\n",
    "plt.savefig('SouthHemisphere_WindSpeed_vs_Latitude_LinRegression.png')\n",
    "plt.show()"
   ]
  },
  {
   "cell_type": "code",
   "execution_count": null,
   "metadata": {},
   "outputs": [],
   "source": []
  },
  {
   "cell_type": "code",
   "execution_count": null,
   "metadata": {},
   "outputs": [],
   "source": []
  }
 ],
 "metadata": {
  "anaconda-cloud": {},
  "kernel_info": {
   "name": "python3"
  },
  "kernelspec": {
   "display_name": "Python 3",
   "language": "python",
   "name": "python3"
  },
  "language_info": {
   "codemirror_mode": {
    "name": "ipython",
    "version": 3
   },
   "file_extension": ".py",
   "mimetype": "text/x-python",
   "name": "python",
   "nbconvert_exporter": "python",
   "pygments_lexer": "ipython3",
   "version": "3.6.10"
  },
  "latex_envs": {
   "LaTeX_envs_menu_present": true,
   "autoclose": false,
   "autocomplete": true,
   "bibliofile": "biblio.bib",
   "cite_by": "apalike",
   "current_citInitial": 1,
   "eqLabelWithNumbers": true,
   "eqNumInitial": 1,
   "hotkeys": {
    "equation": "Ctrl-E",
    "itemize": "Ctrl-I"
   },
   "labels_anchors": false,
   "latex_user_defs": false,
   "report_style_numbering": false,
   "user_envs_cfg": false
  },
  "nteract": {
   "version": "0.12.3"
  }
 },
 "nbformat": 4,
 "nbformat_minor": 4
}
